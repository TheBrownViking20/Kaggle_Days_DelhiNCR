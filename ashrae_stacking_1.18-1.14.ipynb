{
  "nbformat": 4,
  "nbformat_minor": 0,
  "metadata": {
    "colab": {
      "name": "ashrae_stacking.ipynb",
      "provenance": [],
      "collapsed_sections": [],
      "machine_shape": "hm"
    },
    "kernelspec": {
      "name": "python3",
      "display_name": "Python 3"
    },
    "accelerator": "GPU"
  },
  "cells": [
    {
      "cell_type": "code",
      "metadata": {
        "id": "03B4jg5jpshU",
        "colab_type": "code",
        "outputId": "c6e2f70c-7da5-4a72-8da8-3b63e46a4336",
        "colab": {
          "base_uri": "https://localhost:8080/",
          "height": 122
        }
      },
      "source": [
        "from google.colab import drive\n",
        "drive.mount('/content/drive',force_remount=True)"
      ],
      "execution_count": 2,
      "outputs": [
        {
          "output_type": "stream",
          "text": [
            "Go to this URL in a browser: https://accounts.google.com/o/oauth2/auth?client_id=947318989803-6bn6qk8qdgf4n4g3pfee6491hc0brc4i.apps.googleusercontent.com&redirect_uri=urn%3Aietf%3Awg%3Aoauth%3A2.0%3Aoob&scope=email%20https%3A%2F%2Fwww.googleapis.com%2Fauth%2Fdocs.test%20https%3A%2F%2Fwww.googleapis.com%2Fauth%2Fdrive%20https%3A%2F%2Fwww.googleapis.com%2Fauth%2Fdrive.photos.readonly%20https%3A%2F%2Fwww.googleapis.com%2Fauth%2Fpeopleapi.readonly&response_type=code\n",
            "\n",
            "Enter your authorization code:\n",
            "··········\n",
            "Mounted at /content/drive\n"
          ],
          "name": "stdout"
        }
      ]
    },
    {
      "cell_type": "code",
      "metadata": {
        "id": "4tfmBuEvormc",
        "colab_type": "code",
        "outputId": "4b9388d2-c77c-4b09-d663-301ed4354891",
        "colab": {
          "base_uri": "https://localhost:8080/",
          "height": 170
        }
      },
      "source": [
        "from zipfile import ZipFile\n",
        "file_name = \"drive/My Drive/ashrae-energy-prediction.zip\"\n",
        "with ZipFile(file_name, 'r') as zip:  \n",
        "    zip.printdir() \n",
        "    print('Extracting all the files now...') \n",
        "    zip.extractall() \n",
        "    print('Done!') "
      ],
      "execution_count": 3,
      "outputs": [
        {
          "output_type": "stream",
          "text": [
            "File Name                                             Modified             Size\n",
            "building_metadata.csv                          2019-10-10 17:20:04        45527\n",
            "sample_submission.csv                          2019-10-10 17:20:12    447562511\n",
            "test.csv                                       2019-10-10 17:20:46   1462461085\n",
            "train.csv                                      2019-10-10 17:22:42    678616640\n",
            "weather_test.csv                               2019-10-10 17:23:40     14787908\n",
            "weather_train.csv                              2019-10-10 17:23:42      7450075\n",
            "Extracting all the files now...\n",
            "Done!\n"
          ],
          "name": "stdout"
        }
      ]
    },
    {
      "cell_type": "code",
      "metadata": {
        "id": "zLGCYW08Hofa",
        "colab_type": "code",
        "outputId": "a91eb726-4c15-47c7-b4f0-fce0a926ee7f",
        "colab": {
          "base_uri": "https://localhost:8080/",
          "height": 292
        }
      },
      "source": [
        "!pip install category_encoders"
      ],
      "execution_count": 4,
      "outputs": [
        {
          "output_type": "stream",
          "text": [
            "Collecting category_encoders\n",
            "\u001b[?25l  Downloading https://files.pythonhosted.org/packages/a0/52/c54191ad3782de633ea3d6ee3bb2837bda0cf3bc97644bb6375cf14150a0/category_encoders-2.1.0-py2.py3-none-any.whl (100kB)\n",
            "\r\u001b[K     |███▎                            | 10kB 25.6MB/s eta 0:00:01\r\u001b[K     |██████▌                         | 20kB 1.7MB/s eta 0:00:01\r\u001b[K     |█████████▉                      | 30kB 2.4MB/s eta 0:00:01\r\u001b[K     |█████████████                   | 40kB 1.6MB/s eta 0:00:01\r\u001b[K     |████████████████▍               | 51kB 2.0MB/s eta 0:00:01\r\u001b[K     |███████████████████▋            | 61kB 2.4MB/s eta 0:00:01\r\u001b[K     |██████████████████████▉         | 71kB 2.8MB/s eta 0:00:01\r\u001b[K     |██████████████████████████▏     | 81kB 3.2MB/s eta 0:00:01\r\u001b[K     |█████████████████████████████▍  | 92kB 3.6MB/s eta 0:00:01\r\u001b[K     |████████████████████████████████| 102kB 2.4MB/s \n",
            "\u001b[?25hRequirement already satisfied: scipy>=0.19.0 in /usr/local/lib/python3.6/dist-packages (from category_encoders) (1.3.1)\n",
            "Requirement already satisfied: patsy>=0.4.1 in /usr/local/lib/python3.6/dist-packages (from category_encoders) (0.5.1)\n",
            "Requirement already satisfied: numpy>=1.11.3 in /usr/local/lib/python3.6/dist-packages (from category_encoders) (1.17.3)\n",
            "Requirement already satisfied: statsmodels>=0.6.1 in /usr/local/lib/python3.6/dist-packages (from category_encoders) (0.10.1)\n",
            "Requirement already satisfied: pandas>=0.21.1 in /usr/local/lib/python3.6/dist-packages (from category_encoders) (0.25.3)\n",
            "Requirement already satisfied: scikit-learn>=0.20.0 in /usr/local/lib/python3.6/dist-packages (from category_encoders) (0.21.3)\n",
            "Requirement already satisfied: six in /usr/local/lib/python3.6/dist-packages (from patsy>=0.4.1->category_encoders) (1.12.0)\n",
            "Requirement already satisfied: python-dateutil>=2.6.1 in /usr/local/lib/python3.6/dist-packages (from pandas>=0.21.1->category_encoders) (2.6.1)\n",
            "Requirement already satisfied: pytz>=2017.2 in /usr/local/lib/python3.6/dist-packages (from pandas>=0.21.1->category_encoders) (2018.9)\n",
            "Requirement already satisfied: joblib>=0.11 in /usr/local/lib/python3.6/dist-packages (from scikit-learn>=0.20.0->category_encoders) (0.14.0)\n",
            "Installing collected packages: category-encoders\n",
            "Successfully installed category-encoders-2.1.0\n"
          ],
          "name": "stdout"
        }
      ]
    },
    {
      "cell_type": "code",
      "metadata": {
        "id": "0O7ucoBtqlVZ",
        "colab_type": "code",
        "colab": {}
      },
      "source": [
        "import numpy as np # linear algebra\n",
        "import pandas as pd # data processing, CSV file I/O (e.g. pd.read_csv)\n",
        "import gc\n",
        "from IPython import display\n",
        "import seaborn as sns\n",
        "from sklearn.preprocessing import LabelEncoder\n",
        "from sklearn.model_selection import GridSearchCV\n",
        "from tqdm import tqdm\n",
        "import category_encoders as ce"
      ],
      "execution_count": 0,
      "outputs": []
    },
    {
      "cell_type": "code",
      "metadata": {
        "id": "KkvXUYQ7rJTl",
        "colab_type": "code",
        "colab": {}
      },
      "source": [
        "def reduce_mem_usage(df, verbose=True):\n",
        "    numerics = ['int16', 'int32', 'int64', 'float16', 'float32', 'float64']\n",
        "    start_mem = df.memory_usage().sum() / 1024**2    \n",
        "    for col in df.columns:\n",
        "        col_type = df[col].dtypes\n",
        "        if col_type in numerics:\n",
        "            c_min = df[col].min()\n",
        "            c_max = df[col].max()\n",
        "            if str(col_type)[:3] == 'int':\n",
        "                if c_min > np.iinfo(np.int8).min and c_max < np.iinfo(np.int8).max:\n",
        "                    df[col] = df[col].astype(np.int8)\n",
        "                elif c_min > np.iinfo(np.int16).min and c_max < np.iinfo(np.int16).max:\n",
        "                    df[col] = df[col].astype(np.int16)\n",
        "                elif c_min > np.iinfo(np.int32).min and c_max < np.iinfo(np.int32).max:\n",
        "                    df[col] = df[col].astype(np.int32)\n",
        "                elif c_min > np.iinfo(np.int64).min and c_max < np.iinfo(np.int64).max:\n",
        "                    df[col] = df[col].astype(np.int64)  \n",
        "            else:\n",
        "                if c_min > np.finfo(np.float16).min and c_max < np.finfo(np.float16).max:\n",
        "                    df[col] = df[col].astype(np.float16)\n",
        "                elif c_min > np.finfo(np.float32).min and c_max < np.finfo(np.float32).max:\n",
        "                    df[col] = df[col].astype(np.float32)\n",
        "                else:\n",
        "                    df[col] = df[col].astype(np.float64)    \n",
        "    end_mem = df.memory_usage().sum() / 1024**2\n",
        "    if verbose: \n",
        "      print('Mem. usage decreased to {:5.2f} Mb ({:.1f}% reduction)'.format(end_mem, 100 * (start_mem - end_mem) / start_mem))\n",
        "    return df"
      ],
      "execution_count": 0,
      "outputs": []
    },
    {
      "cell_type": "code",
      "metadata": {
        "id": "mduytJIKrTlc",
        "colab_type": "code",
        "outputId": "65ae4b03-d4e3-4e8a-bc02-d7a2b67e5979",
        "colab": {
          "base_uri": "https://localhost:8080/",
          "height": 34
        }
      },
      "source": [
        "train = pd.read_csv(\"train.csv\")\n",
        "test = pd.read_csv(\"test.csv\")\n",
        "weather_train = pd.read_csv(\"weather_train.csv\")\n",
        "weather_test = pd.read_csv(\"weather_test.csv\")\n",
        "building = pd.read_csv(\"building_metadata.csv\")\n",
        "sub = pd.read_csv(\"sample_submission.csv\")\n",
        "gc.collect()"
      ],
      "execution_count": 7,
      "outputs": [
        {
          "output_type": "execute_result",
          "data": {
            "text/plain": [
              "0"
            ]
          },
          "metadata": {
            "tags": []
          },
          "execution_count": 7
        }
      ]
    },
    {
      "cell_type": "code",
      "metadata": {
        "id": "RkV-l9yUt_pl",
        "colab_type": "code",
        "colab": {}
      },
      "source": [
        "le = LabelEncoder()\n",
        "building[\"primary_use\"] = le.fit_transform(building[\"primary_use\"])"
      ],
      "execution_count": 0,
      "outputs": []
    },
    {
      "cell_type": "code",
      "metadata": {
        "id": "1VAekAtSEJsv",
        "colab_type": "code",
        "colab": {}
      },
      "source": [
        "# Interpolation for missing values\n",
        "weather_train = weather_train.groupby('site_id').apply(lambda group: group.interpolate(limit_direction='both'))\n",
        "gc.collect()\n",
        "weather_test = weather_test.groupby('site_id').apply(lambda group: group.interpolate(limit_direction='both'))"
      ],
      "execution_count": 0,
      "outputs": []
    },
    {
      "cell_type": "code",
      "metadata": {
        "id": "YwZY9rOTuCxQ",
        "colab_type": "code",
        "colab": {}
      },
      "source": [
        "train = train.merge(building, on = \"building_id\", how = \"left\")\n",
        "test = test.merge(building, on = \"building_id\", how = \"left\")"
      ],
      "execution_count": 0,
      "outputs": []
    },
    {
      "cell_type": "code",
      "metadata": {
        "id": "HA3QMFmJuFbW",
        "colab_type": "code",
        "colab": {}
      },
      "source": [
        "train = train.merge(weather_train, on = [\"site_id\", \"timestamp\"], how='left')\n",
        "test = test.merge(weather_test, on = [\"site_id\", \"timestamp\"], how='left')"
      ],
      "execution_count": 0,
      "outputs": []
    },
    {
      "cell_type": "code",
      "metadata": {
        "id": "m5bkrwS3i2Z-",
        "colab_type": "code",
        "outputId": "6db84a71-a5f7-4570-a727-bb099b143e22",
        "colab": {
          "base_uri": "https://localhost:8080/",
          "height": 34
        }
      },
      "source": [
        "train[\"wind_direction\"].nunique()/len(train) * 100"
      ],
      "execution_count": 12,
      "outputs": [
        {
          "output_type": "execute_result",
          "data": {
            "text/plain": [
              "0.0026859780076275842"
            ]
          },
          "metadata": {
            "tags": []
          },
          "execution_count": 12
        }
      ]
    },
    {
      "cell_type": "code",
      "metadata": {
        "id": "tU0BBQXoeLr5",
        "colab_type": "code",
        "colab": {}
      },
      "source": [
        "# Handling missing values\n",
        "# Training set\n",
        "train[\"year_built\"].fillna(-1,inplace=True)\n",
        "train[\"floor_count\"].fillna(-1,inplace=True)\n",
        "train[\"air_temperature\"].fillna(train[\"air_temperature\"].mean(),inplace=True)\n",
        "train[\"dew_temperature\"].fillna(train[\"dew_temperature\"].mean(),inplace=True)\n",
        "train[\"wind_speed\"].fillna(train[\"wind_speed\"].mean(),inplace=True)\n",
        "train[\"wind_direction\"].fillna(train[\"wind_direction\"].mode(),inplace=True)\n",
        "train.fillna(-999,inplace=True)\n",
        "# Test set\n",
        "test[\"year_built\"].fillna(-1,inplace=True)\n",
        "test[\"floor_count\"].fillna(-1,inplace=True)\n",
        "test[\"air_temperature\"].fillna(test[\"air_temperature\"].mean(),inplace=True)\n",
        "test[\"dew_temperature\"].fillna(test[\"dew_temperature\"].mean(),inplace=True)\n",
        "test[\"wind_direction\"].fillna(test[\"wind_direction\"].mean(),inplace=True)\n",
        "test[\"wind_direction\"].fillna(test[\"wind_direction\"].mode(),inplace=True)\n",
        "test.fillna(-999,inplace=True)"
      ],
      "execution_count": 0,
      "outputs": []
    },
    {
      "cell_type": "code",
      "metadata": {
        "id": "VIBLPF0euIsb",
        "colab_type": "code",
        "outputId": "00d57f7d-6b08-47a6-b450-0c94b8b29b23",
        "colab": {
          "base_uri": "https://localhost:8080/",
          "height": 34
        }
      },
      "source": [
        "# Feature engineering\n",
        "train[\"day\"] = pd.to_datetime(train[\"timestamp\"]).dt.day\n",
        "train[\"month\"] = pd.to_datetime(train[\"timestamp\"]).dt.month\n",
        "train[\"dayofweek\"] = pd.to_datetime(train[\"timestamp\"]).dt.dayofweek\n",
        "train[\"hour\"] = pd.to_datetime(train[\"timestamp\"]).dt.hour\n",
        "test[\"day\"] = pd.to_datetime(test[\"timestamp\"]).dt.day\n",
        "test[\"month\"] = pd.to_datetime(test[\"timestamp\"]).dt.month\n",
        "test[\"dayofweek\"] = pd.to_datetime(test[\"timestamp\"]).dt.dayofweek\n",
        "test[\"hour\"] = pd.to_datetime(test[\"timestamp\"]).dt.hour\n",
        "\n",
        "a_train = train[\"site_id\"].astype(str) + \"_\" + train[\"building_id\"].astype(str)\n",
        "a_test = test[\"site_id\"].astype(str) + \"_\" + test[\"building_id\"].astype(str)\n",
        "pbar = tqdm(total=8)\n",
        "woe1 = ce.woe.WOEEncoder()\n",
        "train[\"site_id-building_id_yearbuilt_woe\"] = woe1.fit_transform(a_train,train[\"year_built\"].apply(lambda x: 0 if x==-1 else 1))\n",
        "pbar.update(1)\n",
        "test[\"site_id-building_id_yearbuilt_woe\"] = woe1.transform(a_test,test[\"year_built\"].apply(lambda x: 0 if x==-1 else 1))\n",
        "pbar.update(1)\n",
        "woe2 = ce.woe.WOEEncoder()\n",
        "train[\"site_id-building_id_floorcount_woe\"] = woe2.fit_transform(a_train,train[\"floor_count\"].apply(lambda x: 0 if x==-1 else 1)) \n",
        "pbar.update(1)\n",
        "test[\"site_id-building_id_floorcount_woe\"] = woe2.transform(a_test,test[\"floor_count\"].apply(lambda x: 0 if x==-1 else 1))\n",
        "pbar.update(1)\n",
        "woe3 = ce.woe.WOEEncoder()\n",
        "train[\"primaryuse_yearbuilt_woe\"] = woe3.fit_transform(train[\"primary_use\"].astype(str),train[\"year_built\"].apply(lambda x: 0 if x==-1 else 1)) \n",
        "pbar.update(1)\n",
        "test[\"primaryuse_yearbuilt_woe\"] = woe3.transform(test[\"primary_use\"].astype(str),test[\"year_built\"].apply(lambda x: 0 if x==-1 else 1))\n",
        "pbar.update(1)\n",
        "woe4 = ce.woe.WOEEncoder()\n",
        "train[\"primaryuse_floorcount_woe\"] = woe4.fit_transform(train[\"primary_use\"].astype(str),train[\"floor_count\"].apply(lambda x: 0 if x==-1 else 1)) \n",
        "pbar.update(1)\n",
        "test[\"primaryuse_floorcount_woe\"] = woe4.transform(test[\"primary_use\"].astype(str),test[\"floor_count\"].apply(lambda x: 0 if x==-1 else 1))\n",
        "pbar.update(1)\n",
        "pbar.close()"
      ],
      "execution_count": 14,
      "outputs": [
        {
          "output_type": "stream",
          "text": [
            "100%|██████████| 8/8 [03:15<00:00, 29.20s/it]\n"
          ],
          "name": "stderr"
        }
      ]
    },
    {
      "cell_type": "code",
      "metadata": {
        "id": "_1elHHNruiMA",
        "colab_type": "code",
        "colab": {}
      },
      "source": [
        "del weather_train\n",
        "del weather_test\n",
        "del building"
      ],
      "execution_count": 0,
      "outputs": []
    },
    {
      "cell_type": "code",
      "metadata": {
        "id": "9NuJWEaRumFM",
        "colab_type": "code",
        "outputId": "62a5dd0a-66d7-470e-f4d7-17904f12a21a",
        "colab": {
          "base_uri": "https://localhost:8080/",
          "height": 34
        }
      },
      "source": [
        "gc.collect()"
      ],
      "execution_count": 16,
      "outputs": [
        {
          "output_type": "execute_result",
          "data": {
            "text/plain": [
              "0"
            ]
          },
          "metadata": {
            "tags": []
          },
          "execution_count": 16
        }
      ]
    },
    {
      "cell_type": "code",
      "metadata": {
        "id": "JGnA8QYwJtGn",
        "colab_type": "code",
        "outputId": "42e21f99-dc57-4a89-ffa2-1d81fe1ea83d",
        "colab": {
          "base_uri": "https://localhost:8080/",
          "height": 68
        }
      },
      "source": [
        "train = reduce_mem_usage(train)\n",
        "test = reduce_mem_usage(test)\n",
        "sub = reduce_mem_usage(sub)"
      ],
      "execution_count": 17,
      "outputs": [
        {
          "output_type": "stream",
          "text": [
            "Mem. usage decreased to 1777.49 Mb (60.5% reduction)\n",
            "Mem. usage decreased to 2346.19 Mb (70.5% reduction)\n",
            "Mem. usage decreased to 198.83 Mb (68.7% reduction)\n"
          ],
          "name": "stdout"
        }
      ]
    },
    {
      "cell_type": "code",
      "metadata": {
        "id": "-yPsvE2BKgeO",
        "colab_type": "code",
        "outputId": "ddb3317d-49b4-4788-930b-2dd82f5f0443",
        "colab": {
          "base_uri": "https://localhost:8080/",
          "height": 34
        }
      },
      "source": [
        "gc.collect()"
      ],
      "execution_count": 18,
      "outputs": [
        {
          "output_type": "execute_result",
          "data": {
            "text/plain": [
              "0"
            ]
          },
          "metadata": {
            "tags": []
          },
          "execution_count": 18
        }
      ]
    },
    {
      "cell_type": "code",
      "metadata": {
        "id": "SgraHda1KkYT",
        "colab_type": "code",
        "colab": {}
      },
      "source": [
        "from pandas.tseries.holiday import USFederalHolidayCalendar as calendar\n",
        "dates_range = pd.date_range(start='2015-12-31', end='2019-01-01')\n",
        "us_holidays = calendar().holidays(start=dates_range.min(), end=dates_range.max())\n",
        "train['is_holiday'] = (pd.to_datetime(train['timestamp']).dt.date.astype('datetime64').isin(us_holidays)).astype(np.int8)\n",
        "test['is_holiday'] = (pd.to_datetime(test['timestamp']).dt.date.astype('datetime64').isin(us_holidays)).astype(np.int8)\n",
        "\n",
        "train.loc[(train['dayofweek'] == 5) | (train['dayofweek'] == 6) , 'is_holiday'] = 1\n",
        "test.loc[(test['dayofweek']) == 5 | (test['dayofweek'] == 6) , 'is_holiday'] = 1"
      ],
      "execution_count": 0,
      "outputs": []
    },
    {
      "cell_type": "code",
      "metadata": {
        "id": "GnuFS6NuLeeJ",
        "colab_type": "code",
        "colab": {}
      },
      "source": [
        "train = train.query('not (building_id <= 104 & meter == 0 & timestamp <= \"2016-05-20\")')"
      ],
      "execution_count": 0,
      "outputs": []
    },
    {
      "cell_type": "code",
      "metadata": {
        "id": "OYQ5oV7rMb6V",
        "colab_type": "code",
        "colab": {}
      },
      "source": [
        "def degToCompass(num):\n",
        "    val=int((num/22.5)+.5)\n",
        "    arr=[i for i in range(0,16)]\n",
        "    return arr[(val % 16)]"
      ],
      "execution_count": 0,
      "outputs": []
    },
    {
      "cell_type": "code",
      "metadata": {
        "id": "Pqq2air_Mt15",
        "colab_type": "code",
        "colab": {}
      },
      "source": [
        "train['wind_direction'] = train['wind_direction'].apply(degToCompass)\n",
        "test['wind_direction'] = test['wind_direction'].apply(degToCompass)"
      ],
      "execution_count": 0,
      "outputs": []
    },
    {
      "cell_type": "code",
      "metadata": {
        "id": "bUiMhqXIu0K3",
        "colab_type": "code",
        "colab": {}
      },
      "source": [
        "target = np.log1p(train[\"meter_reading\"])\n",
        "train.drop([\"timestamp\", \"meter_reading\"], axis = 1, inplace=True)\n",
        "test.drop([\"timestamp\", \"row_id\"], axis = 1, inplace=True)"
      ],
      "execution_count": 0,
      "outputs": []
    },
    {
      "cell_type": "code",
      "metadata": {
        "id": "WMAQXvE4pdqC",
        "colab_type": "code",
        "outputId": "1b3ce7bd-8b1c-45c6-c8f5-2fcd67bade4b",
        "colab": {
          "base_uri": "https://localhost:8080/",
          "height": 68
        }
      },
      "source": [
        "train = reduce_mem_usage(train)\n",
        "test = reduce_mem_usage(test)\n",
        "sub = reduce_mem_usage(sub)"
      ],
      "execution_count": 24,
      "outputs": [
        {
          "output_type": "stream",
          "text": [
            "Mem. usage decreased to 890.63 Mb (13.0% reduction)\n",
            "Mem. usage decreased to 1869.00 Mb (13.0% reduction)\n",
            "Mem. usage decreased to 198.83 Mb (0.0% reduction)\n"
          ],
          "name": "stdout"
        }
      ]
    },
    {
      "cell_type": "code",
      "metadata": {
        "id": "yLHaKNQ1pnfF",
        "colab_type": "code",
        "outputId": "25a91827-df4e-4ffe-efdb-d518fc2123ef",
        "colab": {
          "base_uri": "https://localhost:8080/",
          "height": 34
        }
      },
      "source": [
        "train.shape, target.shape, test.shape"
      ],
      "execution_count": 25,
      "outputs": [
        {
          "output_type": "execute_result",
          "data": {
            "text/plain": [
              "((19869988, 23), (19869988,), (41697600, 23))"
            ]
          },
          "metadata": {
            "tags": []
          },
          "execution_count": 25
        }
      ]
    },
    {
      "cell_type": "code",
      "metadata": {
        "id": "wjs7HJUXhNFR",
        "colab_type": "code",
        "outputId": "593b6505-0a5e-4672-a8f4-0aeea6d301a1",
        "colab": {
          "base_uri": "https://localhost:8080/",
          "height": 360
        }
      },
      "source": [
        "!pip install catboost\n",
        "import lightgbm as lgb\n",
        "import xgboost as xgb\n",
        "from catboost import CatBoostRegressor, Pool\n",
        "from sklearn.model_selection import train_test_split, KFold\n",
        "import random\n",
        "from tqdm import tqdm"
      ],
      "execution_count": 26,
      "outputs": [
        {
          "output_type": "stream",
          "text": [
            "Collecting catboost\n",
            "\u001b[?25l  Downloading https://files.pythonhosted.org/packages/ad/30/a6178a9b6b5a9d9f91f6fee423e68d0545330f1c690fe419e59a3da6a38a/catboost-0.18.1-cp36-none-manylinux1_x86_64.whl (62.9MB)\n",
            "\u001b[K     |████████████████████████████████| 62.9MB 155kB/s \n",
            "\u001b[?25hRequirement already satisfied: six in /usr/local/lib/python3.6/dist-packages (from catboost) (1.12.0)\n",
            "Requirement already satisfied: numpy>=1.16.0 in /usr/local/lib/python3.6/dist-packages (from catboost) (1.17.3)\n",
            "Requirement already satisfied: matplotlib in /usr/local/lib/python3.6/dist-packages (from catboost) (3.1.1)\n",
            "Requirement already satisfied: pandas>=0.24.0 in /usr/local/lib/python3.6/dist-packages (from catboost) (0.25.3)\n",
            "Requirement already satisfied: plotly in /usr/local/lib/python3.6/dist-packages (from catboost) (4.1.1)\n",
            "Requirement already satisfied: graphviz in /usr/local/lib/python3.6/dist-packages (from catboost) (0.10.1)\n",
            "Requirement already satisfied: scipy in /usr/local/lib/python3.6/dist-packages (from catboost) (1.3.1)\n",
            "Requirement already satisfied: python-dateutil>=2.1 in /usr/local/lib/python3.6/dist-packages (from matplotlib->catboost) (2.6.1)\n",
            "Requirement already satisfied: cycler>=0.10 in /usr/local/lib/python3.6/dist-packages (from matplotlib->catboost) (0.10.0)\n",
            "Requirement already satisfied: kiwisolver>=1.0.1 in /usr/local/lib/python3.6/dist-packages (from matplotlib->catboost) (1.1.0)\n",
            "Requirement already satisfied: pyparsing!=2.0.4,!=2.1.2,!=2.1.6,>=2.0.1 in /usr/local/lib/python3.6/dist-packages (from matplotlib->catboost) (2.4.2)\n",
            "Requirement already satisfied: pytz>=2017.2 in /usr/local/lib/python3.6/dist-packages (from pandas>=0.24.0->catboost) (2018.9)\n",
            "Requirement already satisfied: retrying>=1.3.3 in /usr/local/lib/python3.6/dist-packages (from plotly->catboost) (1.3.3)\n",
            "Requirement already satisfied: setuptools in /usr/local/lib/python3.6/dist-packages (from kiwisolver>=1.0.1->matplotlib->catboost) (41.4.0)\n",
            "Installing collected packages: catboost\n",
            "Successfully installed catboost-0.18.1\n"
          ],
          "name": "stdout"
        }
      ]
    },
    {
      "cell_type": "code",
      "metadata": {
        "id": "Qp-VHZ-FkCch",
        "colab_type": "code",
        "colab": {}
      },
      "source": [
        "lgb_params = {\n",
        "    'boosting_type': 'gbdt',\n",
        "    'objective': 'regression',\n",
        "    'metric': {'l2_root', 'l1'},\n",
        "    'num_leaves': 31,\n",
        "    'learning_rate': 0.5,\n",
        "    'subsample':0.25,\n",
        "    'subample_freq': 1,\n",
        "    'lambda_l1': 1,  \n",
        "    'lambda_l2': 1,\n",
        "    'feature_fraction': 0.9,\n",
        "    'bagging_fraction': 0.8,\n",
        "    'bagging_freq': 5,\n",
        "    'verbose': 1\n",
        "}"
      ],
      "execution_count": 0,
      "outputs": []
    },
    {
      "cell_type": "code",
      "metadata": {
        "id": "QUvL2CZGC1CO",
        "colab_type": "code",
        "colab": {}
      },
      "source": [
        "folds=KFold(n_splits=10,random_state=1)"
      ],
      "execution_count": 0,
      "outputs": []
    },
    {
      "cell_type": "code",
      "metadata": {
        "id": "1uJwndmzmbl8",
        "colab_type": "code",
        "outputId": "da4231d4-8f6b-4363-f233-925bdd5cb777",
        "colab": {
          "base_uri": "https://localhost:8080/",
          "height": 1000
        }
      },
      "source": [
        "test_pred1=[]\n",
        "train_pred1=np.empty((0,1),float)\n",
        "for train_indices,val_indices in folds.split(train,target):\n",
        "    x_train,x_valid=train.iloc[train_indices],train.iloc[val_indices]\n",
        "    y_train,y_valid=target.iloc[train_indices],target.iloc[val_indices]\n",
        "    dtrain = lgb.Dataset(x_train, label=y_train)\n",
        "    dvalid = lgb.Dataset(x_valid, label=y_valid)\n",
        "    model = lgb.train(lgb_params,\n",
        "                dtrain,\n",
        "                num_boost_round=500,\n",
        "                valid_sets=dvalid,\n",
        "                early_stopping_rounds=5,\n",
        "                verbose_eval=100)\n",
        "    i=0\n",
        "    res=[]\n",
        "    step_size = 500000\n",
        "    for j in tqdm(range(int(np.ceil(x_valid.shape[0]/500000)))):\n",
        "        res.append(np.expm1(model.predict(x_valid.iloc[i:i+step_size],num_iteration=model.best_iteration)))\n",
        "        i+=step_size\n",
        "    train_pred1=np.append(train_pred1,np.concatenate(res))\n",
        "    i=0\n",
        "    res=[]\n",
        "    step_size = 500000\n",
        "    for j in tqdm(range(int(np.ceil(test.shape[0]/500000)))):\n",
        "        res.append(np.expm1(model.predict(test.iloc[i:i+step_size],num_iteration=model.best_iteration)))\n",
        "        i+=step_size\n",
        "    test_pred1.append(np.concatenate(res))\n",
        "test_pred1=np.array(test_pred1).T.mean(axis=1)\n",
        "train_pred1=pd.DataFrame(train_pred1)\n",
        "test_pred1=pd.DataFrame(test_pred1)\n",
        "gc.collect()"
      ],
      "execution_count": 29,
      "outputs": [
        {
          "output_type": "stream",
          "text": [
            "Training until validation scores don't improve for 5 rounds.\n",
            "[100]\tvalid_0's l1: 0.710982\tvalid_0's rmse: 1.14342\n",
            "[200]\tvalid_0's l1: 0.598661\tvalid_0's rmse: 1.03462\n"
          ],
          "name": "stdout"
        },
        {
          "output_type": "stream",
          "text": [
            "\r  0%|          | 0/4 [00:00<?, ?it/s]"
          ],
          "name": "stderr"
        },
        {
          "output_type": "stream",
          "text": [
            "Early stopping, best iteration is:\n",
            "[231]\tvalid_0's l1: 0.588409\tvalid_0's rmse: 1.02609\n"
          ],
          "name": "stdout"
        },
        {
          "output_type": "stream",
          "text": [
            "100%|██████████| 4/4 [00:05<00:00,  1.45s/it]\n",
            "100%|██████████| 84/84 [01:44<00:00,  1.06s/it]\n"
          ],
          "name": "stderr"
        },
        {
          "output_type": "stream",
          "text": [
            "Training until validation scores don't improve for 5 rounds.\n",
            "[100]\tvalid_0's l1: 0.667599\tvalid_0's rmse: 1.03987\n",
            "[200]\tvalid_0's l1: 0.579695\tvalid_0's rmse: 0.951822\n",
            "[300]\tvalid_0's l1: 0.537734\tvalid_0's rmse: 0.908843\n",
            "[400]\tvalid_0's l1: 0.50804\tvalid_0's rmse: 0.878642\n"
          ],
          "name": "stdout"
        },
        {
          "output_type": "stream",
          "text": [
            "\r  0%|          | 0/4 [00:00<?, ?it/s]"
          ],
          "name": "stderr"
        },
        {
          "output_type": "stream",
          "text": [
            "Early stopping, best iteration is:\n",
            "[426]\tvalid_0's l1: 0.502488\tvalid_0's rmse: 0.874266\n"
          ],
          "name": "stdout"
        },
        {
          "output_type": "stream",
          "text": [
            "100%|██████████| 4/4 [00:08<00:00,  2.08s/it]\n",
            "100%|██████████| 84/84 [02:47<00:00,  1.74s/it]\n"
          ],
          "name": "stderr"
        },
        {
          "output_type": "stream",
          "text": [
            "Training until validation scores don't improve for 5 rounds.\n",
            "[100]\tvalid_0's l1: 0.668089\tvalid_0's rmse: 1.06857\n",
            "[200]\tvalid_0's l1: 0.582901\tvalid_0's rmse: 0.965074\n"
          ],
          "name": "stdout"
        },
        {
          "output_type": "stream",
          "text": [
            "\r  0%|          | 0/4 [00:00<?, ?it/s]"
          ],
          "name": "stderr"
        },
        {
          "output_type": "stream",
          "text": [
            "Early stopping, best iteration is:\n",
            "[210]\tvalid_0's l1: 0.579818\tvalid_0's rmse: 0.962158\n"
          ],
          "name": "stdout"
        },
        {
          "output_type": "stream",
          "text": [
            "100%|██████████| 4/4 [00:04<00:00,  1.08s/it]\n",
            "100%|██████████| 84/84 [01:27<00:00,  1.08it/s]\n"
          ],
          "name": "stderr"
        },
        {
          "output_type": "stream",
          "text": [
            "Training until validation scores don't improve for 5 rounds.\n",
            "[100]\tvalid_0's l1: 0.676399\tvalid_0's rmse: 1.10599\n"
          ],
          "name": "stdout"
        },
        {
          "output_type": "stream",
          "text": [
            "\r  0%|          | 0/4 [00:00<?, ?it/s]"
          ],
          "name": "stderr"
        },
        {
          "output_type": "stream",
          "text": [
            "Early stopping, best iteration is:\n",
            "[108]\tvalid_0's l1: 0.668611\tvalid_0's rmse: 1.10014\n"
          ],
          "name": "stdout"
        },
        {
          "output_type": "stream",
          "text": [
            "100%|██████████| 4/4 [00:02<00:00,  1.49it/s]\n",
            "100%|██████████| 84/84 [00:53<00:00,  1.78it/s]\n"
          ],
          "name": "stderr"
        },
        {
          "output_type": "stream",
          "text": [
            "Training until validation scores don't improve for 5 rounds.\n"
          ],
          "name": "stdout"
        },
        {
          "output_type": "stream",
          "text": [
            "\r  0%|          | 0/4 [00:00<?, ?it/s]"
          ],
          "name": "stderr"
        },
        {
          "output_type": "stream",
          "text": [
            "Early stopping, best iteration is:\n",
            "[78]\tvalid_0's l1: 0.716887\tvalid_0's rmse: 1.16953\n"
          ],
          "name": "stdout"
        },
        {
          "output_type": "stream",
          "text": [
            "100%|██████████| 4/4 [00:02<00:00,  1.76it/s]\n",
            "100%|██████████| 84/84 [00:44<00:00,  2.13it/s]\n"
          ],
          "name": "stderr"
        },
        {
          "output_type": "stream",
          "text": [
            "Training until validation scores don't improve for 5 rounds.\n"
          ],
          "name": "stdout"
        },
        {
          "output_type": "stream",
          "text": [
            "\r  0%|          | 0/4 [00:00<?, ?it/s]"
          ],
          "name": "stderr"
        },
        {
          "output_type": "stream",
          "text": [
            "Early stopping, best iteration is:\n",
            "[29]\tvalid_0's l1: 0.836639\tvalid_0's rmse: 1.25271\n"
          ],
          "name": "stdout"
        },
        {
          "output_type": "stream",
          "text": [
            "100%|██████████| 4/4 [00:01<00:00,  3.06it/s]\n",
            "100%|██████████| 84/84 [00:27<00:00,  3.55it/s]\n"
          ],
          "name": "stderr"
        },
        {
          "output_type": "stream",
          "text": [
            "Training until validation scores don't improve for 5 rounds.\n"
          ],
          "name": "stdout"
        },
        {
          "output_type": "stream",
          "text": [
            "\r  0%|          | 0/4 [00:00<?, ?it/s]"
          ],
          "name": "stderr"
        },
        {
          "output_type": "stream",
          "text": [
            "Early stopping, best iteration is:\n",
            "[77]\tvalid_0's l1: 0.693027\tvalid_0's rmse: 1.0827\n"
          ],
          "name": "stdout"
        },
        {
          "output_type": "stream",
          "text": [
            "100%|██████████| 4/4 [00:02<00:00,  1.86it/s]\n",
            "100%|██████████| 84/84 [00:44<00:00,  2.14it/s]\n"
          ],
          "name": "stderr"
        },
        {
          "output_type": "stream",
          "text": [
            "Training until validation scores don't improve for 5 rounds.\n",
            "[100]\tvalid_0's l1: 0.753017\tvalid_0's rmse: 1.30736\n"
          ],
          "name": "stdout"
        },
        {
          "output_type": "stream",
          "text": [
            "\r  0%|          | 0/4 [00:00<?, ?it/s]"
          ],
          "name": "stderr"
        },
        {
          "output_type": "stream",
          "text": [
            "Early stopping, best iteration is:\n",
            "[160]\tvalid_0's l1: 0.701533\tvalid_0's rmse: 1.27259\n"
          ],
          "name": "stdout"
        },
        {
          "output_type": "stream",
          "text": [
            "100%|██████████| 4/4 [00:03<00:00,  1.14it/s]\n",
            "100%|██████████| 84/84 [01:12<00:00,  1.36it/s]\n"
          ],
          "name": "stderr"
        },
        {
          "output_type": "stream",
          "text": [
            "Training until validation scores don't improve for 5 rounds.\n"
          ],
          "name": "stdout"
        },
        {
          "output_type": "stream",
          "text": [
            "\r  0%|          | 0/4 [00:00<?, ?it/s]"
          ],
          "name": "stderr"
        },
        {
          "output_type": "stream",
          "text": [
            "Early stopping, best iteration is:\n",
            "[78]\tvalid_0's l1: 0.709512\tvalid_0's rmse: 1.09678\n"
          ],
          "name": "stdout"
        },
        {
          "output_type": "stream",
          "text": [
            "100%|██████████| 4/4 [00:02<00:00,  1.82it/s]\n",
            "100%|██████████| 84/84 [00:44<00:00,  2.18it/s]\n"
          ],
          "name": "stderr"
        },
        {
          "output_type": "stream",
          "text": [
            "Training until validation scores don't improve for 5 rounds.\n",
            "[100]\tvalid_0's l1: 0.668577\tvalid_0's rmse: 1.03782\n",
            "[200]\tvalid_0's l1: 0.605758\tvalid_0's rmse: 0.977433\n"
          ],
          "name": "stdout"
        },
        {
          "output_type": "stream",
          "text": [
            "\r  0%|          | 0/4 [00:00<?, ?it/s]"
          ],
          "name": "stderr"
        },
        {
          "output_type": "stream",
          "text": [
            "Early stopping, best iteration is:\n",
            "[219]\tvalid_0's l1: 0.59556\tvalid_0's rmse: 0.96809\n"
          ],
          "name": "stdout"
        },
        {
          "output_type": "stream",
          "text": [
            "100%|██████████| 4/4 [00:04<00:00,  1.22s/it]\n",
            "100%|██████████| 84/84 [01:37<00:00,  1.00s/it]\n"
          ],
          "name": "stderr"
        },
        {
          "output_type": "execute_result",
          "data": {
            "text/plain": [
              "60"
            ]
          },
          "metadata": {
            "tags": []
          },
          "execution_count": 29
        }
      ]
    },
    {
      "cell_type": "code",
      "metadata": {
        "colab_type": "code",
        "id": "cq_qvkA_NiVf",
        "colab": {
          "base_uri": "https://localhost:8080/",
          "height": 1000
        },
        "outputId": "ceaedf50-917e-457c-d86c-8adfd690482d"
      },
      "source": [
        "test_pred2=[]\n",
        "train_pred2=np.empty((0,1),float)\n",
        "for train_indices,val_indices in folds.split(train,target):\n",
        "    x_train,x_valid=train.iloc[train_indices],train.iloc[val_indices]\n",
        "    y_train,y_valid=target.iloc[train_indices],target.iloc[val_indices]\n",
        "    dtrain = Pool(x_train, label=y_train)\n",
        "    dvalid = Pool(x_valid, label=y_valid)\n",
        "    model = CatBoostRegressor(loss_function=\"MAE\",\n",
        "                            eval_metric=\"RMSE\",\n",
        "                            task_type=\"GPU\",\n",
        "                            learning_rate=0.5,\n",
        "                            iterations=1500,\n",
        "                            random_seed=1,\n",
        "                            od_type=\"Iter\",\n",
        "                            depth=12,\n",
        "                            early_stopping_rounds=20,\n",
        "                            border_count=64)\n",
        "    fit_model = model.fit(dtrain,\n",
        "                            eval_set=dvalid,\n",
        "                            use_best_model=True,\n",
        "                            verbose=100)\n",
        "    i=0\n",
        "    res=[]\n",
        "    step_size = 500000\n",
        "    for j in tqdm(range(int(np.ceil(x_valid.shape[0]/500000)))):\n",
        "        res.append(np.expm1(fit_model.predict(x_valid.iloc[i:i+step_size])))\n",
        "        i+=step_size\n",
        "    train_pred2=np.append(train_pred2,np.concatenate(res))\n",
        "    i=0\n",
        "    res=[]\n",
        "    step_size = 500000\n",
        "    for j in tqdm(range(int(np.ceil(test.shape[0]/500000)))):\n",
        "        res.append(np.expm1(fit_model.predict(test.iloc[i:i+step_size])))\n",
        "        i+=step_size\n",
        "    test_pred2.append(np.concatenate(res))\n",
        "    del res\n",
        "    del fit_model\n",
        "    del model\n",
        "    del x_train\n",
        "    del x_valid\n",
        "    del y_train\n",
        "    del y_valid\n",
        "    del dtrain\n",
        "    del dvalid\n",
        "    gc.collect()\n",
        "test_pred2=np.array(test_pred2).T.mean(axis=1)\n",
        "train_pred2=pd.DataFrame(train_pred2)\n",
        "test_pred2=pd.DataFrame(test_pred2)\n",
        "gc.collect()"
      ],
      "execution_count": 30,
      "outputs": [
        {
          "output_type": "stream",
          "text": [
            "0:\tlearn: 4.5163208\ttest: 4.4740048\tbest: 4.4740048 (0)\ttotal: 154ms\tremaining: 3m 50s\n",
            "100:\tlearn: 1.1620846\ttest: 1.2265915\tbest: 1.2265915 (100)\ttotal: 14.2s\tremaining: 3m 16s\n",
            "200:\tlearn: 1.0363946\ttest: 1.1250288\tbest: 1.1250288 (200)\ttotal: 28.1s\tremaining: 3m 1s\n",
            "300:\tlearn: 0.9458333\ttest: 1.0582270\tbest: 1.0582270 (300)\ttotal: 41.7s\tremaining: 2m 46s\n",
            "400:\tlearn: 0.9043805\ttest: 1.0351135\tbest: 1.0351135 (400)\ttotal: 55.5s\tremaining: 2m 31s\n",
            "500:\tlearn: 0.8783782\ttest: 1.0191112\tbest: 1.0190724 (499)\ttotal: 1m 9s\tremaining: 2m 18s\n",
            "600:\tlearn: 0.8592588\ttest: 1.0106477\tbest: 1.0106477 (600)\ttotal: 1m 23s\tremaining: 2m 4s\n",
            "700:\tlearn: 0.8375836\ttest: 1.0010365\tbest: 1.0010365 (700)\ttotal: 1m 36s\tremaining: 1m 50s\n",
            "bestTest = 1.001036517\n",
            "bestIteration = 700\n",
            "Shrink model to first 701 iterations.\n"
          ],
          "name": "stdout"
        },
        {
          "output_type": "stream",
          "text": [
            "100%|██████████| 4/4 [00:05<00:00,  1.27s/it]\n",
            "100%|██████████| 84/84 [01:48<00:00,  1.08s/it]\n"
          ],
          "name": "stderr"
        },
        {
          "output_type": "stream",
          "text": [
            "0:\tlearn: 4.5145079\ttest: 4.4887313\tbest: 4.4887313 (0)\ttotal: 150ms\tremaining: 3m 45s\n",
            "100:\tlearn: 1.1701736\ttest: 1.1828669\tbest: 1.1828669 (100)\ttotal: 14.2s\tremaining: 3m 16s\n",
            "200:\tlearn: 1.0431455\ttest: 1.0521166\tbest: 1.0521166 (200)\ttotal: 27.9s\tremaining: 3m\n",
            "300:\tlearn: 0.9568548\ttest: 0.9744947\tbest: 0.9744947 (300)\ttotal: 41.5s\tremaining: 2m 45s\n",
            "400:\tlearn: 0.9102839\ttest: 0.9358399\tbest: 0.9358399 (400)\ttotal: 55.2s\tremaining: 2m 31s\n",
            "500:\tlearn: 0.8763715\ttest: 0.9162979\tbest: 0.9162979 (500)\ttotal: 1m 8s\tremaining: 2m 17s\n",
            "bestTest = 0.9160186643\n",
            "bestIteration = 522\n",
            "Shrink model to first 523 iterations.\n"
          ],
          "name": "stdout"
        },
        {
          "output_type": "stream",
          "text": [
            "100%|██████████| 4/4 [00:04<00:00,  1.13s/it]\n",
            "100%|██████████| 84/84 [01:32<00:00,  1.10it/s]\n"
          ],
          "name": "stderr"
        },
        {
          "output_type": "stream",
          "text": [
            "0:\tlearn: 4.5171616\ttest: 4.4577622\tbest: 4.4577622 (0)\ttotal: 149ms\tremaining: 3m 44s\n",
            "100:\tlearn: 1.1660100\ttest: 1.1914459\tbest: 1.1914459 (100)\ttotal: 14.1s\tremaining: 3m 15s\n",
            "200:\tlearn: 1.0341833\ttest: 1.0734189\tbest: 1.0734189 (200)\ttotal: 27.9s\tremaining: 3m\n",
            "300:\tlearn: 0.9581567\ttest: 1.0055739\tbest: 1.0055739 (300)\ttotal: 41.5s\tremaining: 2m 45s\n",
            "400:\tlearn: 0.9107726\ttest: 0.9709062\tbest: 0.9709062 (400)\ttotal: 55.2s\tremaining: 2m 31s\n",
            "500:\tlearn: 0.8791061\ttest: 0.9500003\tbest: 0.9500003 (500)\ttotal: 1m 8s\tremaining: 2m 17s\n",
            "600:\tlearn: 0.8555453\ttest: 0.9373711\tbest: 0.9373711 (600)\ttotal: 1m 22s\tremaining: 2m 3s\n",
            "bestTest = 0.9366106759\n",
            "bestIteration = 636\n",
            "Shrink model to first 637 iterations.\n"
          ],
          "name": "stdout"
        },
        {
          "output_type": "stream",
          "text": [
            "100%|██████████| 4/4 [00:04<00:00,  1.23s/it]\n",
            "100%|██████████| 84/84 [01:41<00:00,  1.00it/s]\n"
          ],
          "name": "stderr"
        },
        {
          "output_type": "stream",
          "text": [
            "0:\tlearn: 4.5171060\ttest: 4.4597571\tbest: 4.4597571 (0)\ttotal: 140ms\tremaining: 3m 30s\n",
            "100:\tlearn: 1.1586633\ttest: 1.2175597\tbest: 1.2175597 (100)\ttotal: 14.1s\tremaining: 3m 15s\n",
            "200:\tlearn: 1.0306494\ttest: 1.1221970\tbest: 1.1221970 (200)\ttotal: 27.9s\tremaining: 3m\n",
            "300:\tlearn: 0.9447625\ttest: 1.0604668\tbest: 1.0603924 (298)\ttotal: 41.5s\tremaining: 2m 45s\n",
            "400:\tlearn: 0.8969892\ttest: 1.0296876\tbest: 1.0296876 (400)\ttotal: 55.3s\tremaining: 2m 31s\n",
            "500:\tlearn: 0.8692641\ttest: 1.0191127\tbest: 1.0190814 (497)\ttotal: 1m 8s\tremaining: 2m 17s\n",
            "600:\tlearn: 0.8451224\ttest: 1.0106228\tbest: 1.0106228 (600)\ttotal: 1m 22s\tremaining: 2m 3s\n",
            "700:\tlearn: 0.8238833\ttest: 0.9992942\tbest: 0.9992942 (700)\ttotal: 1m 36s\tremaining: 1m 49s\n",
            "bestTest = 0.9947725699\n",
            "bestIteration = 773\n",
            "Shrink model to first 774 iterations.\n"
          ],
          "name": "stdout"
        },
        {
          "output_type": "stream",
          "text": [
            "100%|██████████| 4/4 [00:05<00:00,  1.35s/it]\n",
            "100%|██████████| 84/84 [01:51<00:00,  1.10s/it]\n"
          ],
          "name": "stderr"
        },
        {
          "output_type": "stream",
          "text": [
            "0:\tlearn: 4.5086595\ttest: 4.5264926\tbest: 4.5264926 (0)\ttotal: 146ms\tremaining: 3m 38s\n",
            "100:\tlearn: 1.1594341\ttest: 1.2675471\tbest: 1.2675471 (100)\ttotal: 14.1s\tremaining: 3m 15s\n",
            "200:\tlearn: 1.0380911\ttest: 1.1622201\tbest: 1.1622201 (200)\ttotal: 27.9s\tremaining: 3m\n",
            "300:\tlearn: 0.9544384\ttest: 1.1068283\tbest: 1.1068283 (300)\ttotal: 41.6s\tremaining: 2m 45s\n",
            "400:\tlearn: 0.9026526\ttest: 1.0647202\tbest: 1.0647202 (400)\ttotal: 55.1s\tremaining: 2m 31s\n",
            "500:\tlearn: 0.8735068\ttest: 1.0494387\tbest: 1.0494387 (500)\ttotal: 1m 8s\tremaining: 2m 17s\n",
            "600:\tlearn: 0.8471351\ttest: 1.0383608\tbest: 1.0375120 (589)\ttotal: 1m 22s\tremaining: 2m 3s\n",
            "bestTest = 1.037511971\n",
            "bestIteration = 589\n",
            "Shrink model to first 590 iterations.\n"
          ],
          "name": "stdout"
        },
        {
          "output_type": "stream",
          "text": [
            "100%|██████████| 4/4 [00:04<00:00,  1.19s/it]\n",
            "100%|██████████| 84/84 [01:37<00:00,  1.04it/s]\n"
          ],
          "name": "stderr"
        },
        {
          "output_type": "stream",
          "text": [
            "0:\tlearn: 4.4995138\ttest: 4.6117570\tbest: 4.6117570 (0)\ttotal: 146ms\tremaining: 3m 38s\n",
            "100:\tlearn: 1.1684013\ttest: 1.1652499\tbest: 1.1652499 (100)\ttotal: 14.2s\tremaining: 3m 16s\n",
            "200:\tlearn: 1.0382813\ttest: 1.0616424\tbest: 1.0616424 (200)\ttotal: 27.9s\tremaining: 3m\n",
            "300:\tlearn: 0.9590136\ttest: 0.9978004\tbest: 0.9978004 (300)\ttotal: 41.7s\tremaining: 2m 46s\n",
            "400:\tlearn: 0.9053112\ttest: 0.9670597\tbest: 0.9668646 (399)\ttotal: 55.4s\tremaining: 2m 31s\n",
            "500:\tlearn: 0.8779597\ttest: 0.9509008\tbest: 0.9509008 (500)\ttotal: 1m 9s\tremaining: 2m 17s\n",
            "bestTest = 0.9497777803\n",
            "bestIteration = 510\n",
            "Shrink model to first 511 iterations.\n"
          ],
          "name": "stdout"
        },
        {
          "output_type": "stream",
          "text": [
            "100%|██████████| 4/4 [00:04<00:00,  1.13s/it]\n",
            "100%|██████████| 84/84 [01:32<00:00,  1.09it/s]\n"
          ],
          "name": "stderr"
        },
        {
          "output_type": "stream",
          "text": [
            "0:\tlearn: 4.4980556\ttest: 4.6254969\tbest: 4.6254969 (0)\ttotal: 146ms\tremaining: 3m 38s\n",
            "100:\tlearn: 1.1658006\ttest: 1.1070464\tbest: 1.1070464 (100)\ttotal: 14.1s\tremaining: 3m 15s\n",
            "200:\tlearn: 1.0426020\ttest: 1.0348377\tbest: 1.0085285 (189)\ttotal: 27.7s\tremaining: 2m 59s\n"
          ],
          "name": "stdout"
        },
        {
          "output_type": "stream",
          "text": [
            "\r  0%|          | 0/4 [00:00<?, ?it/s]"
          ],
          "name": "stderr"
        },
        {
          "output_type": "stream",
          "text": [
            "bestTest = 1.008528527\n",
            "bestIteration = 189\n",
            "Shrink model to first 190 iterations.\n"
          ],
          "name": "stdout"
        },
        {
          "output_type": "stream",
          "text": [
            "100%|██████████| 4/4 [00:03<00:00,  1.21it/s]\n",
            "100%|██████████| 84/84 [01:07<00:00,  1.50it/s]\n"
          ],
          "name": "stderr"
        },
        {
          "output_type": "stream",
          "text": [
            "0:\tlearn: 4.5146489\ttest: 4.4690321\tbest: 4.4690321 (0)\ttotal: 139ms\tremaining: 3m 27s\n",
            "100:\tlearn: 1.1406476\ttest: 1.4077288\tbest: 1.4077288 (100)\ttotal: 14.2s\tremaining: 3m 16s\n",
            "200:\tlearn: 1.0026911\ttest: 1.3246697\tbest: 1.3246697 (200)\ttotal: 27.9s\tremaining: 3m\n",
            "300:\tlearn: 0.9292284\ttest: 1.2919227\tbest: 1.2919227 (300)\ttotal: 41.6s\tremaining: 2m 45s\n",
            "400:\tlearn: 0.8806153\ttest: 1.2707642\tbest: 1.2707642 (400)\ttotal: 55.2s\tremaining: 2m 31s\n",
            "500:\tlearn: 0.8528017\ttest: 1.2584150\tbest: 1.2584150 (500)\ttotal: 1m 8s\tremaining: 2m 17s\n",
            "600:\tlearn: 0.8375622\ttest: 1.2522434\tbest: 1.2522434 (600)\ttotal: 1m 22s\tremaining: 2m 3s\n",
            "700:\tlearn: 0.8162369\ttest: 1.2415484\tbest: 1.2415484 (700)\ttotal: 1m 36s\tremaining: 1m 50s\n",
            "800:\tlearn: 0.7970375\ttest: 1.2337740\tbest: 1.2337584 (798)\ttotal: 1m 50s\tremaining: 1m 36s\n",
            "900:\tlearn: 0.7832829\ttest: 1.2290875\tbest: 1.2290616 (897)\ttotal: 2m 4s\tremaining: 1m 22s\n",
            "1000:\tlearn: 0.7714024\ttest: 1.2257117\tbest: 1.2257117 (1000)\ttotal: 2m 17s\tremaining: 1m 8s\n",
            "bestTest = 1.225237567\n",
            "bestIteration = 1024\n",
            "Shrink model to first 1025 iterations.\n"
          ],
          "name": "stdout"
        },
        {
          "output_type": "stream",
          "text": [
            "100%|██████████| 4/4 [00:06<00:00,  1.55s/it]\n",
            "100%|██████████| 84/84 [02:11<00:00,  1.29s/it]\n"
          ],
          "name": "stderr"
        },
        {
          "output_type": "stream",
          "text": [
            "0:\tlearn: 4.5123400\ttest: 4.4986239\tbest: 4.4986239 (0)\ttotal: 147ms\tremaining: 3m 40s\n",
            "100:\tlearn: 1.1717539\ttest: 1.1118016\tbest: 1.1118016 (100)\ttotal: 14.2s\tremaining: 3m 16s\n",
            "200:\tlearn: 1.0347714\ttest: 0.9981342\tbest: 0.9981342 (200)\ttotal: 27.9s\tremaining: 3m\n",
            "300:\tlearn: 0.9542822\ttest: 0.9482917\tbest: 0.9482917 (300)\ttotal: 41.6s\tremaining: 2m 45s\n",
            "400:\tlearn: 0.9049196\ttest: 0.9270274\tbest: 0.9247981 (386)\ttotal: 55.4s\tremaining: 2m 31s\n"
          ],
          "name": "stdout"
        },
        {
          "output_type": "stream",
          "text": [
            "\r  0%|          | 0/4 [00:00<?, ?it/s]"
          ],
          "name": "stderr"
        },
        {
          "output_type": "stream",
          "text": [
            "bestTest = 0.9247981487\n",
            "bestIteration = 386\n",
            "Shrink model to first 387 iterations.\n"
          ],
          "name": "stdout"
        },
        {
          "output_type": "stream",
          "text": [
            "100%|██████████| 4/4 [00:04<00:00,  1.02s/it]\n",
            "100%|██████████| 84/84 [01:22<00:00,  1.23it/s]\n"
          ],
          "name": "stderr"
        },
        {
          "output_type": "stream",
          "text": [
            "0:\tlearn: 4.5131202\ttest: 4.5044951\tbest: 4.5044951 (0)\ttotal: 147ms\tremaining: 3m 39s\n",
            "100:\tlearn: 1.1619045\ttest: 1.0997817\tbest: 1.0997817 (100)\ttotal: 14.2s\tremaining: 3m 16s\n",
            "200:\tlearn: 1.0373345\ttest: 0.9969240\tbest: 0.9969240 (200)\ttotal: 28s\tremaining: 3m 1s\n",
            "300:\tlearn: 0.9486518\ttest: 0.9512241\tbest: 0.9512241 (300)\ttotal: 41.6s\tremaining: 2m 45s\n",
            "400:\tlearn: 0.9088961\ttest: 0.9272285\tbest: 0.9265044 (395)\ttotal: 55.4s\tremaining: 2m 31s\n",
            "500:\tlearn: 0.8809900\ttest: 0.9175616\tbest: 0.9169779 (497)\ttotal: 1m 8s\tremaining: 2m 17s\n",
            "600:\tlearn: 0.8555445\ttest: 0.9087439\tbest: 0.9085361 (595)\ttotal: 1m 22s\tremaining: 2m 3s\n",
            "bestTest = 0.9057943101\n",
            "bestIteration = 650\n",
            "Shrink model to first 651 iterations.\n"
          ],
          "name": "stdout"
        },
        {
          "output_type": "stream",
          "text": [
            "100%|██████████| 4/4 [00:04<00:00,  1.25s/it]\n",
            "100%|██████████| 84/84 [01:43<00:00,  1.02s/it]\n"
          ],
          "name": "stderr"
        },
        {
          "output_type": "execute_result",
          "data": {
            "text/plain": [
              "0"
            ]
          },
          "metadata": {
            "tags": []
          },
          "execution_count": 30
        }
      ]
    },
    {
      "cell_type": "code",
      "metadata": {
        "id": "mmmRgyErhNAC",
        "colab_type": "code",
        "colab": {
          "base_uri": "https://localhost:8080/",
          "height": 34
        },
        "outputId": "05a24287-30e5-4b58-8c8e-948a54f5feaa"
      },
      "source": [
        "gc.collect()"
      ],
      "execution_count": 31,
      "outputs": [
        {
          "output_type": "execute_result",
          "data": {
            "text/plain": [
              "0"
            ]
          },
          "metadata": {
            "tags": []
          },
          "execution_count": 31
        }
      ]
    },
    {
      "cell_type": "code",
      "metadata": {
        "id": "eZj3bQzHGRCW",
        "colab_type": "code",
        "colab": {}
      },
      "source": [
        "df = pd.concat([train_pred1, train_pred2], axis=1)\n",
        "df_test = pd.concat([test_pred1, test_pred2], axis=1)"
      ],
      "execution_count": 0,
      "outputs": []
    },
    {
      "cell_type": "code",
      "metadata": {
        "id": "lTmilIKaHUmR",
        "colab_type": "code",
        "colab": {}
      },
      "source": [
        "from sklearn.linear_model import HuberRegressor as r"
      ],
      "execution_count": 0,
      "outputs": []
    },
    {
      "cell_type": "code",
      "metadata": {
        "id": "UZEHIBzT3nx7",
        "colab_type": "code",
        "colab": {}
      },
      "source": [
        "from keras.models import Sequential\n",
        "from keras.layers import Dense, Dropout\n",
        "import keras\n",
        "from keras.wrappers.scikit_learn import KerasRegressor\n",
        "\n",
        "def baseline_model():\n",
        "  # create model\n",
        "  model = Sequential()\n",
        "  model.add(Dense(2000, input_dim=2, kernel_initializer='normal', activation='relu'))\n",
        "  model.add(Dense(500, kernel_initializer='normal',activation='relu'))\n",
        "  model.add(Dense(100, kernel_initializer='normal',activation='relu'))\n",
        "  model.add(Dense(1, kernel_initializer='normal'))\n",
        "  # Compile model\n",
        "  model.compile(loss='mean_squared_error', optimizer=keras.optimizers.Adam())\n",
        "  return model"
      ],
      "execution_count": 0,
      "outputs": []
    },
    {
      "cell_type": "code",
      "metadata": {
        "id": "tvGu0qyq_uZW",
        "colab_type": "code",
        "colab": {
          "base_uri": "https://localhost:8080/",
          "height": 714
        },
        "outputId": "b1f1dd15-8a81-4289-aa41-bf4d92f84bff"
      },
      "source": [
        "#model = r(epsilon=5,fit_intercept=False)\n",
        "model = KerasRegressor(build_fn=baseline_model, epochs=20, batch_size=10000, verbose=1)\n",
        "model.fit(df.values,target.values.reshape(target.shape[0],1))\n",
        "#model.coef_\n",
        "i=0\n",
        "res=[]\n",
        "step_size = 500000\n",
        "for j in tqdm(range(int(np.ceil(df_test.shape[0]/500000)))):\n",
        "    res.append(np.expm1(model.predict(df_test.iloc[i:i+step_size], verbose=0)))\n",
        "    i+=step_size\n",
        "results = np.concatenate(res)"
      ],
      "execution_count": 58,
      "outputs": [
        {
          "output_type": "stream",
          "text": [
            "Epoch 1/20\n",
            "19869988/19869988 [==============================] - 34s 2us/step - loss: 1890198.2610\n",
            "Epoch 2/20\n",
            "19869988/19869988 [==============================] - 33s 2us/step - loss: 46.7614\n",
            "Epoch 3/20\n",
            "19869988/19869988 [==============================] - 33s 2us/step - loss: 1499.9277\n",
            "Epoch 4/20\n",
            "19869988/19869988 [==============================] - 33s 2us/step - loss: 11.7084\n",
            "Epoch 5/20\n",
            "19869988/19869988 [==============================] - 33s 2us/step - loss: 9816.9462\n",
            "Epoch 6/20\n",
            "19869988/19869988 [==============================] - 33s 2us/step - loss: 3.3126\n",
            "Epoch 7/20\n",
            "19869988/19869988 [==============================] - 33s 2us/step - loss: 1.8209\n",
            "Epoch 8/20\n",
            "19869988/19869988 [==============================] - 33s 2us/step - loss: 1.3393\n",
            "Epoch 9/20\n",
            "19869988/19869988 [==============================] - 33s 2us/step - loss: 1.0600\n",
            "Epoch 10/20\n",
            "19869988/19869988 [==============================] - 34s 2us/step - loss: 0.9837\n",
            "Epoch 11/20\n",
            "19869988/19869988 [==============================] - 34s 2us/step - loss: 3.2655\n",
            "Epoch 12/20\n",
            "19869988/19869988 [==============================] - 34s 2us/step - loss: 1.4004\n",
            "Epoch 13/20\n",
            "19869988/19869988 [==============================] - 34s 2us/step - loss: 2.6291\n",
            "Epoch 14/20\n",
            "19869988/19869988 [==============================] - 34s 2us/step - loss: 1.0436\n",
            "Epoch 15/20\n",
            "19869988/19869988 [==============================] - 33s 2us/step - loss: 131.9830\n",
            "Epoch 16/20\n",
            "19869988/19869988 [==============================] - 33s 2us/step - loss: 1.1323\n",
            "Epoch 17/20\n",
            "19869988/19869988 [==============================] - 33s 2us/step - loss: 1.0365\n",
            "Epoch 18/20\n",
            "19869988/19869988 [==============================] - 33s 2us/step - loss: 1.0049\n",
            "Epoch 19/20\n",
            "19869988/19869988 [==============================] - 33s 2us/step - loss: 0.9931\n",
            "Epoch 20/20\n",
            "19869988/19869988 [==============================] - 33s 2us/step - loss: 0.9835\n"
          ],
          "name": "stdout"
        },
        {
          "output_type": "stream",
          "text": [
            "100%|██████████| 84/84 [00:22<00:00,  4.53it/s]\n"
          ],
          "name": "stderr"
        }
      ]
    },
    {
      "cell_type": "code",
      "metadata": {
        "id": "lKle53wDu64V",
        "colab_type": "code",
        "colab": {
          "base_uri": "https://localhost:8080/",
          "height": 102
        },
        "outputId": "2445fbec-ece8-430f-9493-b19fc419077c"
      },
      "source": [
        "#sub[\"meter_reading\"] = ((test_pred1 * model.coef_[0]) + (test_pred2 * model.coef_[1]))*1000\n",
        "sub[\"meter_reading\"] = results\n",
        "sub[\"meter_reading\"][sub[\"meter_reading\"] < 0] = 0"
      ],
      "execution_count": 59,
      "outputs": [
        {
          "output_type": "stream",
          "text": [
            "/usr/local/lib/python3.6/dist-packages/ipykernel_launcher.py:2: SettingWithCopyWarning: \n",
            "A value is trying to be set on a copy of a slice from a DataFrame\n",
            "\n",
            "See the caveats in the documentation: http://pandas.pydata.org/pandas-docs/stable/user_guide/indexing.html#returning-a-view-versus-a-copy\n",
            "  \n"
          ],
          "name": "stderr"
        }
      ]
    },
    {
      "cell_type": "code",
      "metadata": {
        "id": "pEUJOhTaPMTm",
        "colab_type": "code",
        "colab": {
          "base_uri": "https://localhost:8080/",
          "height": 102
        },
        "outputId": "19721364-c66e-424d-f308-9b0b6828ace4"
      },
      "source": [
        "sub[\"meter_reading\"][sub[\"meter_reading\"] == np.inf] = sub[\"meter_reading\"].quantile(0.999)"
      ],
      "execution_count": 60,
      "outputs": [
        {
          "output_type": "stream",
          "text": [
            "/usr/local/lib/python3.6/dist-packages/ipykernel_launcher.py:1: SettingWithCopyWarning: \n",
            "A value is trying to be set on a copy of a slice from a DataFrame\n",
            "\n",
            "See the caveats in the documentation: http://pandas.pydata.org/pandas-docs/stable/user_guide/indexing.html#returning-a-view-versus-a-copy\n",
            "  \"\"\"Entry point for launching an IPython kernel.\n"
          ],
          "name": "stderr"
        }
      ]
    },
    {
      "cell_type": "code",
      "metadata": {
        "id": "d3km3tPbvG5w",
        "colab_type": "code",
        "colab": {
          "base_uri": "https://localhost:8080/",
          "height": 204
        },
        "outputId": "c644d89b-ee2f-4ee8-b03f-be260a15d251"
      },
      "source": [
        "sub.head()"
      ],
      "execution_count": 61,
      "outputs": [
        {
          "output_type": "execute_result",
          "data": {
            "text/html": [
              "<div>\n",
              "<style scoped>\n",
              "    .dataframe tbody tr th:only-of-type {\n",
              "        vertical-align: middle;\n",
              "    }\n",
              "\n",
              "    .dataframe tbody tr th {\n",
              "        vertical-align: top;\n",
              "    }\n",
              "\n",
              "    .dataframe thead th {\n",
              "        text-align: right;\n",
              "    }\n",
              "</style>\n",
              "<table border=\"1\" class=\"dataframe\">\n",
              "  <thead>\n",
              "    <tr style=\"text-align: right;\">\n",
              "      <th></th>\n",
              "      <th>row_id</th>\n",
              "      <th>meter_reading</th>\n",
              "    </tr>\n",
              "  </thead>\n",
              "  <tbody>\n",
              "    <tr>\n",
              "      <th>0</th>\n",
              "      <td>0</td>\n",
              "      <td>148.382812</td>\n",
              "    </tr>\n",
              "    <tr>\n",
              "      <th>1</th>\n",
              "      <td>1</td>\n",
              "      <td>70.850471</td>\n",
              "    </tr>\n",
              "    <tr>\n",
              "      <th>2</th>\n",
              "      <td>2</td>\n",
              "      <td>9.949934</td>\n",
              "    </tr>\n",
              "    <tr>\n",
              "      <th>3</th>\n",
              "      <td>3</td>\n",
              "      <td>276.340118</td>\n",
              "    </tr>\n",
              "    <tr>\n",
              "      <th>4</th>\n",
              "      <td>4</td>\n",
              "      <td>882.033691</td>\n",
              "    </tr>\n",
              "  </tbody>\n",
              "</table>\n",
              "</div>"
            ],
            "text/plain": [
              "   row_id  meter_reading\n",
              "0       0     148.382812\n",
              "1       1      70.850471\n",
              "2       2       9.949934\n",
              "3       3     276.340118\n",
              "4       4     882.033691"
            ]
          },
          "metadata": {
            "tags": []
          },
          "execution_count": 61
        }
      ]
    },
    {
      "cell_type": "code",
      "metadata": {
        "id": "IIY3gaewvK1Y",
        "colab_type": "code",
        "colab": {
          "base_uri": "https://localhost:8080/",
          "height": 68
        },
        "outputId": "2df6cc08-3867-4f4f-914d-27b3abe3e5e5"
      },
      "source": [
        "sub.dtypes"
      ],
      "execution_count": 62,
      "outputs": [
        {
          "output_type": "execute_result",
          "data": {
            "text/plain": [
              "row_id             int32\n",
              "meter_reading    float32\n",
              "dtype: object"
            ]
          },
          "metadata": {
            "tags": []
          },
          "execution_count": 62
        }
      ]
    },
    {
      "cell_type": "code",
      "metadata": {
        "id": "3d-H7fhKx376",
        "colab_type": "code",
        "colab": {
          "base_uri": "https://localhost:8080/",
          "height": 170
        },
        "outputId": "74329078-cc39-4cf0-a5f6-99619f3935f2"
      },
      "source": [
        "sub[\"meter_reading\"].describe()"
      ],
      "execution_count": 63,
      "outputs": [
        {
          "output_type": "execute_result",
          "data": {
            "text/plain": [
              "count    4.169760e+07\n",
              "mean     2.514620e+02\n",
              "std      5.448538e+02\n",
              "min      1.076890e-01\n",
              "25%      2.191563e+01\n",
              "50%      8.033254e+01\n",
              "75%      2.419007e+02\n",
              "max      3.234327e+03\n",
              "Name: meter_reading, dtype: float64"
            ]
          },
          "metadata": {
            "tags": []
          },
          "execution_count": 63
        }
      ]
    },
    {
      "cell_type": "code",
      "metadata": {
        "id": "453uFsJImaE4",
        "colab_type": "code",
        "colab": {
          "base_uri": "https://localhost:8080/",
          "height": 68
        },
        "outputId": "96a0ca3f-32ad-4ee9-8422-0d74933d1794"
      },
      "source": [
        "sub.isna().sum()"
      ],
      "execution_count": 64,
      "outputs": [
        {
          "output_type": "execute_result",
          "data": {
            "text/plain": [
              "row_id           0\n",
              "meter_reading    0\n",
              "dtype: int64"
            ]
          },
          "metadata": {
            "tags": []
          },
          "execution_count": 64
        }
      ]
    },
    {
      "cell_type": "code",
      "metadata": {
        "id": "k3WteUEcvDKW",
        "colab_type": "code",
        "colab": {}
      },
      "source": [
        "sub.to_csv(\"submission.csv\", index = False)"
      ],
      "execution_count": 0,
      "outputs": []
    },
    {
      "cell_type": "code",
      "metadata": {
        "id": "5L7wRt0AisF6",
        "colab_type": "code",
        "colab": {
          "base_uri": "https://localhost:8080/",
          "height": 34
        },
        "outputId": "4e21ccf3-5b0c-4b07-aac4-6dfabd7a4758"
      },
      "source": [
        "gc.collect()"
      ],
      "execution_count": 66,
      "outputs": [
        {
          "output_type": "execute_result",
          "data": {
            "text/plain": [
              "456"
            ]
          },
          "metadata": {
            "tags": []
          },
          "execution_count": 66
        }
      ]
    },
    {
      "cell_type": "code",
      "metadata": {
        "id": "XTbt-ub7ReLW",
        "colab_type": "code",
        "colab": {}
      },
      "source": [
        ""
      ],
      "execution_count": 0,
      "outputs": []
    }
  ]
}