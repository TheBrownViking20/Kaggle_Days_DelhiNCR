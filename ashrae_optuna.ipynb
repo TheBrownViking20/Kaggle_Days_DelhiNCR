{
  "nbformat": 4,
  "nbformat_minor": 0,
  "metadata": {
    "colab": {
      "name": "ashrae-optuna.ipynb",
      "provenance": [],
      "collapsed_sections": [],
      "machine_shape": "hm"
    },
    "kernelspec": {
      "name": "python3",
      "display_name": "Python 3"
    },
    "accelerator": "GPU"
  },
  "cells": [
    {
      "cell_type": "code",
      "metadata": {
        "id": "03B4jg5jpshU",
        "colab_type": "code",
        "outputId": "6fbaf0df-4e72-4b9b-c891-bc87c4cd11e0",
        "colab": {
          "base_uri": "https://localhost:8080/",
          "height": 122
        }
      },
      "source": [
        "from google.colab import drive\n",
        "drive.mount('/content/drive',force_remount=True)"
      ],
      "execution_count": 1,
      "outputs": [
        {
          "output_type": "stream",
          "text": [
            "Go to this URL in a browser: https://accounts.google.com/o/oauth2/auth?client_id=947318989803-6bn6qk8qdgf4n4g3pfee6491hc0brc4i.apps.googleusercontent.com&redirect_uri=urn%3Aietf%3Awg%3Aoauth%3A2.0%3Aoob&scope=email%20https%3A%2F%2Fwww.googleapis.com%2Fauth%2Fdocs.test%20https%3A%2F%2Fwww.googleapis.com%2Fauth%2Fdrive%20https%3A%2F%2Fwww.googleapis.com%2Fauth%2Fdrive.photos.readonly%20https%3A%2F%2Fwww.googleapis.com%2Fauth%2Fpeopleapi.readonly&response_type=code\n",
            "\n",
            "Enter your authorization code:\n",
            "··········\n",
            "Mounted at /content/drive\n"
          ],
          "name": "stdout"
        }
      ]
    },
    {
      "cell_type": "code",
      "metadata": {
        "id": "4tfmBuEvormc",
        "colab_type": "code",
        "outputId": "1aafde83-f481-4c44-9651-5556bc2d1f83",
        "colab": {
          "base_uri": "https://localhost:8080/",
          "height": 170
        }
      },
      "source": [
        "from zipfile import ZipFile\n",
        "file_name = \"drive/My Drive/ashrae-energy-prediction.zip\"\n",
        "with ZipFile(file_name, 'r') as zip:  \n",
        "    zip.printdir() \n",
        "    print('Extracting all the files now...') \n",
        "    zip.extractall() \n",
        "    print('Done!') "
      ],
      "execution_count": 2,
      "outputs": [
        {
          "output_type": "stream",
          "text": [
            "File Name                                             Modified             Size\n",
            "building_metadata.csv                          2019-10-10 17:20:04        45527\n",
            "sample_submission.csv                          2019-10-10 17:20:12    447562511\n",
            "test.csv                                       2019-10-10 17:20:46   1462461085\n",
            "train.csv                                      2019-10-10 17:22:42    678616640\n",
            "weather_test.csv                               2019-10-10 17:23:40     14787908\n",
            "weather_train.csv                              2019-10-10 17:23:42      7450075\n",
            "Extracting all the files now...\n",
            "Done!\n"
          ],
          "name": "stdout"
        }
      ]
    },
    {
      "cell_type": "code",
      "metadata": {
        "id": "zLGCYW08Hofa",
        "colab_type": "code",
        "outputId": "124ff25f-5492-4014-a724-fe8ed92d6ef2",
        "colab": {
          "base_uri": "https://localhost:8080/",
          "height": 292
        }
      },
      "source": [
        "!pip install category_encoders"
      ],
      "execution_count": 3,
      "outputs": [
        {
          "output_type": "stream",
          "text": [
            "Collecting category_encoders\n",
            "\u001b[?25l  Downloading https://files.pythonhosted.org/packages/a0/52/c54191ad3782de633ea3d6ee3bb2837bda0cf3bc97644bb6375cf14150a0/category_encoders-2.1.0-py2.py3-none-any.whl (100kB)\n",
            "\r\u001b[K     |███▎                            | 10kB 26.7MB/s eta 0:00:01\r\u001b[K     |██████▌                         | 20kB 3.1MB/s eta 0:00:01\r\u001b[K     |█████████▉                      | 30kB 4.6MB/s eta 0:00:01\r\u001b[K     |█████████████                   | 40kB 3.0MB/s eta 0:00:01\r\u001b[K     |████████████████▍               | 51kB 3.7MB/s eta 0:00:01\r\u001b[K     |███████████████████▋            | 61kB 4.4MB/s eta 0:00:01\r\u001b[K     |██████████████████████▉         | 71kB 5.1MB/s eta 0:00:01\r\u001b[K     |██████████████████████████▏     | 81kB 5.7MB/s eta 0:00:01\r\u001b[K     |█████████████████████████████▍  | 92kB 6.4MB/s eta 0:00:01\r\u001b[K     |████████████████████████████████| 102kB 3.9MB/s \n",
            "\u001b[?25hRequirement already satisfied: numpy>=1.11.3 in /usr/local/lib/python3.6/dist-packages (from category_encoders) (1.17.3)\n",
            "Requirement already satisfied: scipy>=0.19.0 in /usr/local/lib/python3.6/dist-packages (from category_encoders) (1.3.1)\n",
            "Requirement already satisfied: statsmodels>=0.6.1 in /usr/local/lib/python3.6/dist-packages (from category_encoders) (0.10.1)\n",
            "Requirement already satisfied: patsy>=0.4.1 in /usr/local/lib/python3.6/dist-packages (from category_encoders) (0.5.1)\n",
            "Requirement already satisfied: pandas>=0.21.1 in /usr/local/lib/python3.6/dist-packages (from category_encoders) (0.25.3)\n",
            "Requirement already satisfied: scikit-learn>=0.20.0 in /usr/local/lib/python3.6/dist-packages (from category_encoders) (0.21.3)\n",
            "Requirement already satisfied: six in /usr/local/lib/python3.6/dist-packages (from patsy>=0.4.1->category_encoders) (1.12.0)\n",
            "Requirement already satisfied: pytz>=2017.2 in /usr/local/lib/python3.6/dist-packages (from pandas>=0.21.1->category_encoders) (2018.9)\n",
            "Requirement already satisfied: python-dateutil>=2.6.1 in /usr/local/lib/python3.6/dist-packages (from pandas>=0.21.1->category_encoders) (2.6.1)\n",
            "Requirement already satisfied: joblib>=0.11 in /usr/local/lib/python3.6/dist-packages (from scikit-learn>=0.20.0->category_encoders) (0.14.0)\n",
            "Installing collected packages: category-encoders\n",
            "Successfully installed category-encoders-2.1.0\n"
          ],
          "name": "stdout"
        }
      ]
    },
    {
      "cell_type": "code",
      "metadata": {
        "id": "0O7ucoBtqlVZ",
        "colab_type": "code",
        "colab": {}
      },
      "source": [
        "import numpy as np # linear algebra\n",
        "import pandas as pd # data processing, CSV file I/O (e.g. pd.read_csv)\n",
        "import gc\n",
        "from IPython import display\n",
        "import seaborn as sns\n",
        "from sklearn.preprocessing import LabelEncoder\n",
        "from sklearn.model_selection import GridSearchCV\n",
        "from tqdm import tqdm\n",
        "import category_encoders as ce"
      ],
      "execution_count": 0,
      "outputs": []
    },
    {
      "cell_type": "code",
      "metadata": {
        "id": "KkvXUYQ7rJTl",
        "colab_type": "code",
        "colab": {}
      },
      "source": [
        "def reduce_mem_usage(df, verbose=True):\n",
        "    numerics = ['int16', 'int32', 'int64', 'float16', 'float32', 'float64']\n",
        "    start_mem = df.memory_usage().sum() / 1024**2    \n",
        "    for col in df.columns:\n",
        "        col_type = df[col].dtypes\n",
        "        if col_type in numerics:\n",
        "            c_min = df[col].min()\n",
        "            c_max = df[col].max()\n",
        "            if str(col_type)[:3] == 'int':\n",
        "                if c_min > np.iinfo(np.int8).min and c_max < np.iinfo(np.int8).max:\n",
        "                    df[col] = df[col].astype(np.int8)\n",
        "                elif c_min > np.iinfo(np.int16).min and c_max < np.iinfo(np.int16).max:\n",
        "                    df[col] = df[col].astype(np.int16)\n",
        "                elif c_min > np.iinfo(np.int32).min and c_max < np.iinfo(np.int32).max:\n",
        "                    df[col] = df[col].astype(np.int32)\n",
        "                elif c_min > np.iinfo(np.int64).min and c_max < np.iinfo(np.int64).max:\n",
        "                    df[col] = df[col].astype(np.int64)  \n",
        "            else:\n",
        "                if c_min > np.finfo(np.float16).min and c_max < np.finfo(np.float16).max:\n",
        "                    df[col] = df[col].astype(np.float16)\n",
        "                elif c_min > np.finfo(np.float32).min and c_max < np.finfo(np.float32).max:\n",
        "                    df[col] = df[col].astype(np.float32)\n",
        "                else:\n",
        "                    df[col] = df[col].astype(np.float64)    \n",
        "    end_mem = df.memory_usage().sum() / 1024**2\n",
        "    if verbose: \n",
        "      print('Mem. usage decreased to {:5.2f} Mb ({:.1f}% reduction)'.format(end_mem, 100 * (start_mem - end_mem) / start_mem))\n",
        "    return df"
      ],
      "execution_count": 0,
      "outputs": []
    },
    {
      "cell_type": "code",
      "metadata": {
        "id": "mduytJIKrTlc",
        "colab_type": "code",
        "outputId": "9a00373b-a65a-46dd-a2e8-66e39602efd8",
        "colab": {
          "base_uri": "https://localhost:8080/",
          "height": 34
        }
      },
      "source": [
        "train = pd.read_csv(\"train.csv\")\n",
        "test = pd.read_csv(\"test.csv\")\n",
        "weather_train = pd.read_csv(\"weather_train.csv\")\n",
        "weather_test = pd.read_csv(\"weather_test.csv\")\n",
        "building = pd.read_csv(\"building_metadata.csv\")\n",
        "sub = pd.read_csv(\"sample_submission.csv\")\n",
        "gc.collect()"
      ],
      "execution_count": 6,
      "outputs": [
        {
          "output_type": "execute_result",
          "data": {
            "text/plain": [
              "0"
            ]
          },
          "metadata": {
            "tags": []
          },
          "execution_count": 6
        }
      ]
    },
    {
      "cell_type": "code",
      "metadata": {
        "id": "RkV-l9yUt_pl",
        "colab_type": "code",
        "colab": {}
      },
      "source": [
        "le = LabelEncoder()\n",
        "building[\"primary_use\"] = le.fit_transform(building[\"primary_use\"])"
      ],
      "execution_count": 0,
      "outputs": []
    },
    {
      "cell_type": "code",
      "metadata": {
        "id": "1VAekAtSEJsv",
        "colab_type": "code",
        "colab": {}
      },
      "source": [
        "# Interpolation for missing values\n",
        "weather_train = weather_train.groupby('site_id').apply(lambda group: group.interpolate(limit_direction='both'))\n",
        "gc.collect()\n",
        "weather_test = weather_test.groupby('site_id').apply(lambda group: group.interpolate(limit_direction='both'))"
      ],
      "execution_count": 0,
      "outputs": []
    },
    {
      "cell_type": "code",
      "metadata": {
        "id": "YwZY9rOTuCxQ",
        "colab_type": "code",
        "colab": {}
      },
      "source": [
        "train = train.merge(building, on = \"building_id\", how = \"left\")\n",
        "test = test.merge(building, on = \"building_id\", how = \"left\")"
      ],
      "execution_count": 0,
      "outputs": []
    },
    {
      "cell_type": "code",
      "metadata": {
        "id": "HA3QMFmJuFbW",
        "colab_type": "code",
        "colab": {}
      },
      "source": [
        "train = train.merge(weather_train, on = [\"site_id\", \"timestamp\"], how='left')\n",
        "test = test.merge(weather_test, on = [\"site_id\", \"timestamp\"], how='left')"
      ],
      "execution_count": 0,
      "outputs": []
    },
    {
      "cell_type": "code",
      "metadata": {
        "id": "tU0BBQXoeLr5",
        "colab_type": "code",
        "colab": {}
      },
      "source": [
        "# Handling missing values\n",
        "# Training set\n",
        "train[\"year_built\"].fillna(-1,inplace=True)\n",
        "train[\"floor_count\"].fillna(-1,inplace=True)\n",
        "train[\"air_temperature\"].fillna(train[\"air_temperature\"].mean(),inplace=True)\n",
        "train[\"dew_temperature\"].fillna(train[\"dew_temperature\"].mean(),inplace=True)\n",
        "train[\"wind_speed\"].fillna(train[\"wind_speed\"].mean(),inplace=True)\n",
        "train[\"wind_direction\"].fillna(train[\"wind_direction\"].mode(),inplace=True)\n",
        "train.fillna(-999,inplace=True)\n",
        "# Test set\n",
        "test[\"year_built\"].fillna(-1,inplace=True)\n",
        "test[\"floor_count\"].fillna(-1,inplace=True)\n",
        "test[\"air_temperature\"].fillna(test[\"air_temperature\"].mean(),inplace=True)\n",
        "test[\"dew_temperature\"].fillna(test[\"dew_temperature\"].mean(),inplace=True)\n",
        "test[\"wind_direction\"].fillna(test[\"wind_direction\"].mean(),inplace=True)\n",
        "test[\"wind_direction\"].fillna(test[\"wind_direction\"].mode(),inplace=True)\n",
        "test.fillna(-999,inplace=True)"
      ],
      "execution_count": 0,
      "outputs": []
    },
    {
      "cell_type": "code",
      "metadata": {
        "id": "VIBLPF0euIsb",
        "colab_type": "code",
        "outputId": "b9c33ecc-8be4-4168-ea08-b1506abfaded",
        "colab": {
          "base_uri": "https://localhost:8080/",
          "height": 34
        }
      },
      "source": [
        "# Feature engineering\n",
        "train[\"day\"] = pd.to_datetime(train[\"timestamp\"]).dt.day\n",
        "train[\"month\"] = pd.to_datetime(train[\"timestamp\"]).dt.month\n",
        "train[\"dayofweek\"] = pd.to_datetime(train[\"timestamp\"]).dt.dayofweek\n",
        "train[\"hour\"] = pd.to_datetime(train[\"timestamp\"]).dt.hour\n",
        "test[\"day\"] = pd.to_datetime(test[\"timestamp\"]).dt.day\n",
        "test[\"month\"] = pd.to_datetime(test[\"timestamp\"]).dt.month\n",
        "test[\"dayofweek\"] = pd.to_datetime(test[\"timestamp\"]).dt.dayofweek\n",
        "test[\"hour\"] = pd.to_datetime(test[\"timestamp\"]).dt.hour\n",
        "\n",
        "a_train = train[\"site_id\"].astype(str) + \"_\" + train[\"building_id\"].astype(str)\n",
        "a_test = test[\"site_id\"].astype(str) + \"_\" + test[\"building_id\"].astype(str)\n",
        "pbar = tqdm(total=8)\n",
        "woe1 = ce.woe.WOEEncoder()\n",
        "train[\"site_id-building_id_yearbuilt_woe\"] = woe1.fit_transform(a_train,train[\"year_built\"].apply(lambda x: 0 if x==-1 else 1))\n",
        "pbar.update(1)\n",
        "test[\"site_id-building_id_yearbuilt_woe\"] = woe1.transform(a_test,test[\"year_built\"].apply(lambda x: 0 if x==-1 else 1))\n",
        "pbar.update(1)\n",
        "woe2 = ce.woe.WOEEncoder()\n",
        "train[\"site_id-building_id_floorcount_woe\"] = woe2.fit_transform(a_train,train[\"floor_count\"].apply(lambda x: 0 if x==-1 else 1)) \n",
        "pbar.update(1)\n",
        "test[\"site_id-building_id_floorcount_woe\"] = woe2.transform(a_test,test[\"floor_count\"].apply(lambda x: 0 if x==-1 else 1))\n",
        "pbar.update(1)\n",
        "woe3 = ce.woe.WOEEncoder()\n",
        "train[\"primaryuse_yearbuilt_woe\"] = woe3.fit_transform(train[\"primary_use\"].astype(str),train[\"year_built\"].apply(lambda x: 0 if x==-1 else 1)) \n",
        "pbar.update(1)\n",
        "test[\"primaryuse_yearbuilt_woe\"] = woe3.transform(test[\"primary_use\"].astype(str),test[\"year_built\"].apply(lambda x: 0 if x==-1 else 1))\n",
        "pbar.update(1)\n",
        "woe4 = ce.woe.WOEEncoder()\n",
        "train[\"primaryuse_floorcount_woe\"] = woe4.fit_transform(train[\"primary_use\"].astype(str),train[\"floor_count\"].apply(lambda x: 0 if x==-1 else 1)) \n",
        "pbar.update(1)\n",
        "test[\"primaryuse_floorcount_woe\"] = woe4.transform(test[\"primary_use\"].astype(str),test[\"floor_count\"].apply(lambda x: 0 if x==-1 else 1))\n",
        "pbar.update(1)\n",
        "pbar.close()"
      ],
      "execution_count": 12,
      "outputs": [
        {
          "output_type": "stream",
          "text": [
            "100%|██████████| 8/8 [03:29<00:00, 31.08s/it]\n"
          ],
          "name": "stderr"
        }
      ]
    },
    {
      "cell_type": "code",
      "metadata": {
        "id": "_1elHHNruiMA",
        "colab_type": "code",
        "colab": {}
      },
      "source": [
        "del weather_train\n",
        "del weather_test\n",
        "del building"
      ],
      "execution_count": 0,
      "outputs": []
    },
    {
      "cell_type": "code",
      "metadata": {
        "id": "9NuJWEaRumFM",
        "colab_type": "code",
        "outputId": "782880e7-102e-4c76-e2ea-d09cb910b4b2",
        "colab": {
          "base_uri": "https://localhost:8080/",
          "height": 34
        }
      },
      "source": [
        "gc.collect()"
      ],
      "execution_count": 14,
      "outputs": [
        {
          "output_type": "execute_result",
          "data": {
            "text/plain": [
              "0"
            ]
          },
          "metadata": {
            "tags": []
          },
          "execution_count": 14
        }
      ]
    },
    {
      "cell_type": "code",
      "metadata": {
        "id": "JGnA8QYwJtGn",
        "colab_type": "code",
        "outputId": "2a4b15d0-58e9-4e7f-ae79-a626c6dbb9ec",
        "colab": {
          "base_uri": "https://localhost:8080/",
          "height": 68
        }
      },
      "source": [
        "train = reduce_mem_usage(train)\n",
        "test = reduce_mem_usage(test)\n",
        "sub = reduce_mem_usage(sub)"
      ],
      "execution_count": 15,
      "outputs": [
        {
          "output_type": "stream",
          "text": [
            "Mem. usage decreased to 1777.49 Mb (60.5% reduction)\n",
            "Mem. usage decreased to 2346.19 Mb (70.5% reduction)\n",
            "Mem. usage decreased to 198.83 Mb (68.7% reduction)\n"
          ],
          "name": "stdout"
        }
      ]
    },
    {
      "cell_type": "code",
      "metadata": {
        "id": "-yPsvE2BKgeO",
        "colab_type": "code",
        "outputId": "8c4085a7-f80c-4b16-f69e-12936b42a1ca",
        "colab": {
          "base_uri": "https://localhost:8080/",
          "height": 34
        }
      },
      "source": [
        "gc.collect()"
      ],
      "execution_count": 16,
      "outputs": [
        {
          "output_type": "execute_result",
          "data": {
            "text/plain": [
              "0"
            ]
          },
          "metadata": {
            "tags": []
          },
          "execution_count": 16
        }
      ]
    },
    {
      "cell_type": "code",
      "metadata": {
        "id": "SgraHda1KkYT",
        "colab_type": "code",
        "colab": {}
      },
      "source": [
        "from pandas.tseries.holiday import USFederalHolidayCalendar as calendar\n",
        "dates_range = pd.date_range(start='2015-12-31', end='2019-01-01')\n",
        "us_holidays = calendar().holidays(start=dates_range.min(), end=dates_range.max())\n",
        "train['is_holiday'] = (pd.to_datetime(train['timestamp']).dt.date.astype('datetime64').isin(us_holidays)).astype(np.int8)\n",
        "test['is_holiday'] = (pd.to_datetime(test['timestamp']).dt.date.astype('datetime64').isin(us_holidays)).astype(np.int8)\n",
        "\n",
        "train.loc[(train['dayofweek'] == 5) | (train['dayofweek'] == 6) , 'is_holiday'] = 1\n",
        "test.loc[(test['dayofweek']) == 5 | (test['dayofweek'] == 6) , 'is_holiday'] = 1"
      ],
      "execution_count": 0,
      "outputs": []
    },
    {
      "cell_type": "code",
      "metadata": {
        "id": "GnuFS6NuLeeJ",
        "colab_type": "code",
        "colab": {}
      },
      "source": [
        "train = train.query('not (building_id <= 104 & meter == 0 & timestamp <= \"2016-05-20\")')"
      ],
      "execution_count": 0,
      "outputs": []
    },
    {
      "cell_type": "code",
      "metadata": {
        "id": "OYQ5oV7rMb6V",
        "colab_type": "code",
        "colab": {}
      },
      "source": [
        "def degToCompass(num):\n",
        "    val=int((num/22.5)+.5)\n",
        "    arr=[i for i in range(0,16)]\n",
        "    return arr[(val % 16)]"
      ],
      "execution_count": 0,
      "outputs": []
    },
    {
      "cell_type": "code",
      "metadata": {
        "id": "Pqq2air_Mt15",
        "colab_type": "code",
        "colab": {}
      },
      "source": [
        "train['wind_direction'] = train['wind_direction'].apply(degToCompass)\n",
        "test['wind_direction'] = test['wind_direction'].apply(degToCompass)"
      ],
      "execution_count": 0,
      "outputs": []
    },
    {
      "cell_type": "code",
      "metadata": {
        "id": "bUiMhqXIu0K3",
        "colab_type": "code",
        "colab": {}
      },
      "source": [
        "target = np.log1p(train[\"meter_reading\"])\n",
        "train.drop([\"timestamp\", \"meter_reading\"], axis = 1, inplace=True)\n",
        "test.drop([\"timestamp\", \"row_id\"], axis = 1, inplace=True)"
      ],
      "execution_count": 0,
      "outputs": []
    },
    {
      "cell_type": "code",
      "metadata": {
        "id": "WMAQXvE4pdqC",
        "colab_type": "code",
        "outputId": "c3dfd587-8f33-4259-eb80-cb1fbeb69803",
        "colab": {
          "base_uri": "https://localhost:8080/",
          "height": 68
        }
      },
      "source": [
        "train = reduce_mem_usage(train)\n",
        "test = reduce_mem_usage(test)\n",
        "sub = reduce_mem_usage(sub)"
      ],
      "execution_count": 22,
      "outputs": [
        {
          "output_type": "stream",
          "text": [
            "Mem. usage decreased to 890.63 Mb (13.0% reduction)\n",
            "Mem. usage decreased to 1869.00 Mb (13.0% reduction)\n",
            "Mem. usage decreased to 198.83 Mb (0.0% reduction)\n"
          ],
          "name": "stdout"
        }
      ]
    },
    {
      "cell_type": "code",
      "metadata": {
        "id": "yLHaKNQ1pnfF",
        "colab_type": "code",
        "outputId": "692d6b6e-0a9f-49d1-94f0-20236995ffd5",
        "colab": {
          "base_uri": "https://localhost:8080/",
          "height": 34
        }
      },
      "source": [
        "train.shape, target.shape, test.shape"
      ],
      "execution_count": 23,
      "outputs": [
        {
          "output_type": "execute_result",
          "data": {
            "text/plain": [
              "((19869988, 23), (19869988,), (41697600, 23))"
            ]
          },
          "metadata": {
            "tags": []
          },
          "execution_count": 23
        }
      ]
    },
    {
      "cell_type": "code",
      "metadata": {
        "id": "wjs7HJUXhNFR",
        "colab_type": "code",
        "outputId": "9f453c26-dd30-4aea-c636-a8a4be3fd883",
        "colab": {
          "base_uri": "https://localhost:8080/",
          "height": 972
        }
      },
      "source": [
        "!pip install optuna\n",
        "import lightgbm as lgb\n",
        "from sklearn.model_selection import train_test_split\n",
        "from sklearn.metrics import mean_squared_error\n",
        "import random\n",
        "from tqdm import tqdm\n",
        "import optuna\n",
        "from statistics import mean "
      ],
      "execution_count": 24,
      "outputs": [
        {
          "output_type": "stream",
          "text": [
            "Collecting optuna\n",
            "\u001b[?25l  Downloading https://files.pythonhosted.org/packages/2d/32/3141c8aaf40a076079f075c2b66240c4bb61fc37b22bc8e6898475f0236e/optuna-0.18.1.tar.gz (122kB)\n",
            "\u001b[K     |████████████████████████████████| 122kB 5.2MB/s \n",
            "\u001b[?25hCollecting alembic\n",
            "\u001b[?25l  Downloading https://files.pythonhosted.org/packages/70/3d/d5ed7a71fe84f9ed0a69e91232a40b0b148b151524dc5bb1c8e4211eb117/alembic-1.3.0.tar.gz (1.1MB)\n",
            "\u001b[K     |████████████████████████████████| 1.1MB 65.7MB/s \n",
            "\u001b[?25hCollecting cliff\n",
            "\u001b[?25l  Downloading https://files.pythonhosted.org/packages/f6/a9/e976ba91e57043c4b6add2c394e6d1ffc26712c694379c3fe72f942d2440/cliff-2.16.0-py2.py3-none-any.whl (78kB)\n",
            "\u001b[K     |████████████████████████████████| 81kB 13.3MB/s \n",
            "\u001b[?25hCollecting colorlog\n",
            "  Downloading https://files.pythonhosted.org/packages/68/4d/892728b0c14547224f0ac40884e722a3d00cb54e7a146aea0b3186806c9e/colorlog-4.0.2-py2.py3-none-any.whl\n",
            "Requirement already satisfied: numpy in /usr/local/lib/python3.6/dist-packages (from optuna) (1.17.3)\n",
            "Requirement already satisfied: scipy in /usr/local/lib/python3.6/dist-packages (from optuna) (1.3.1)\n",
            "Requirement already satisfied: six in /usr/local/lib/python3.6/dist-packages (from optuna) (1.12.0)\n",
            "Requirement already satisfied: sqlalchemy>=1.1.0 in /usr/local/lib/python3.6/dist-packages (from optuna) (1.3.10)\n",
            "Requirement already satisfied: tqdm in /usr/local/lib/python3.6/dist-packages (from optuna) (4.28.1)\n",
            "Requirement already satisfied: typing in /usr/local/lib/python3.6/dist-packages (from optuna) (3.6.6)\n",
            "Collecting Mako\n",
            "\u001b[?25l  Downloading https://files.pythonhosted.org/packages/b0/3c/8dcd6883d009f7cae0f3157fb53e9afb05a0d3d33b3db1268ec2e6f4a56b/Mako-1.1.0.tar.gz (463kB)\n",
            "\u001b[K     |████████████████████████████████| 471kB 70.3MB/s \n",
            "\u001b[?25hCollecting python-editor>=0.3\n",
            "  Downloading https://files.pythonhosted.org/packages/c6/d3/201fc3abe391bbae6606e6f1d598c15d367033332bd54352b12f35513717/python_editor-1.0.4-py3-none-any.whl\n",
            "Requirement already satisfied: python-dateutil in /usr/local/lib/python3.6/dist-packages (from alembic->optuna) (2.6.1)\n",
            "Collecting pbr!=2.1.0,>=2.0.0\n",
            "\u001b[?25l  Downloading https://files.pythonhosted.org/packages/46/a4/d5c83831a3452713e4b4f126149bc4fbda170f7cb16a86a00ce57ce0e9ad/pbr-5.4.3-py2.py3-none-any.whl (110kB)\n",
            "\u001b[K     |████████████████████████████████| 112kB 63.0MB/s \n",
            "\u001b[?25hRequirement already satisfied: pyparsing>=2.1.0 in /usr/local/lib/python3.6/dist-packages (from cliff->optuna) (2.4.2)\n",
            "Requirement already satisfied: PrettyTable<0.8,>=0.7.2 in /usr/local/lib/python3.6/dist-packages (from cliff->optuna) (0.7.2)\n",
            "Collecting stevedore>=1.20.0\n",
            "\u001b[?25l  Downloading https://files.pythonhosted.org/packages/b1/e1/f5ddbd83f60b03f522f173c03e406c1bff8343f0232a292ac96aa633b47a/stevedore-1.31.0-py2.py3-none-any.whl (43kB)\n",
            "\u001b[K     |████████████████████████████████| 51kB 9.4MB/s \n",
            "\u001b[?25hCollecting cmd2!=0.8.3,<0.9.0,>=0.8.0\n",
            "\u001b[?25l  Downloading https://files.pythonhosted.org/packages/e9/40/a71caa2aaff10c73612a7106e2d35f693e85b8cf6e37ab0774274bca3cf9/cmd2-0.8.9-py2.py3-none-any.whl (53kB)\n",
            "\u001b[K     |████████████████████████████████| 61kB 10.4MB/s \n",
            "\u001b[?25hRequirement already satisfied: PyYAML>=3.12 in /usr/local/lib/python3.6/dist-packages (from cliff->optuna) (3.13)\n",
            "Requirement already satisfied: MarkupSafe>=0.9.2 in /usr/local/lib/python3.6/dist-packages (from Mako->alembic->optuna) (1.1.1)\n",
            "Collecting pyperclip\n",
            "  Downloading https://files.pythonhosted.org/packages/2d/0f/4eda562dffd085945d57c2d9a5da745cfb5228c02bc90f2c74bbac746243/pyperclip-1.7.0.tar.gz\n",
            "Requirement already satisfied: wcwidth; sys_platform != \"win32\" in /usr/local/lib/python3.6/dist-packages (from cmd2!=0.8.3,<0.9.0,>=0.8.0->cliff->optuna) (0.1.7)\n",
            "Building wheels for collected packages: optuna, alembic, Mako, pyperclip\n",
            "  Building wheel for optuna (setup.py) ... \u001b[?25l\u001b[?25hdone\n",
            "  Created wheel for optuna: filename=optuna-0.18.1-cp36-none-any.whl size=165105 sha256=6c3ba0d28662e67c426437e1684bf16551239cbcd5575f71ee63542c246e23da\n",
            "  Stored in directory: /root/.cache/pip/wheels/40/d2/bd/49b16e74a177e74ea789e677aef515981f021e1979061c4a51\n",
            "  Building wheel for alembic (setup.py) ... \u001b[?25l\u001b[?25hdone\n",
            "  Created wheel for alembic: filename=alembic-1.3.0-py2.py3-none-any.whl size=144427 sha256=609421d1ab6ba0b92d915932f34ee5449bbaba77ed69824d6a83578ad3928fb1\n",
            "  Stored in directory: /root/.cache/pip/wheels/40/f8/22/ad0f408796a4c656fae5ee1fd8d8a139b19ca4af61059cea5b\n",
            "  Building wheel for Mako (setup.py) ... \u001b[?25l\u001b[?25hdone\n",
            "  Created wheel for Mako: filename=Mako-1.1.0-cp36-none-any.whl size=75363 sha256=a87103ae3531d4bad0e7aac646b3d0e1726de686bff223cc58939120a73373df\n",
            "  Stored in directory: /root/.cache/pip/wheels/98/32/7b/a291926643fc1d1e02593e0d9e247c5a866a366b8343b7aa27\n",
            "  Building wheel for pyperclip (setup.py) ... \u001b[?25l\u001b[?25hdone\n",
            "  Created wheel for pyperclip: filename=pyperclip-1.7.0-cp36-none-any.whl size=8359 sha256=a63870b368478c131eedb7cd77c9307dee0ab658b87de165ce3074f3f959778d\n",
            "  Stored in directory: /root/.cache/pip/wheels/92/f0/ac/2ba2972034e98971c3654ece337ac61e546bdeb34ca960dc8c\n",
            "Successfully built optuna alembic Mako pyperclip\n",
            "Installing collected packages: Mako, python-editor, alembic, pbr, stevedore, pyperclip, cmd2, cliff, colorlog, optuna\n",
            "Successfully installed Mako-1.1.0 alembic-1.3.0 cliff-2.16.0 cmd2-0.8.9 colorlog-4.0.2 optuna-0.18.1 pbr-5.4.3 pyperclip-1.7.0 python-editor-1.0.4 stevedore-1.31.0\n"
          ],
          "name": "stdout"
        }
      ]
    },
    {
      "cell_type": "code",
      "metadata": {
        "id": "ngR39Xbf3q4j",
        "colab_type": "code",
        "outputId": "c6d80c1f-b806-4ea3-b9d3-a1167e5f3bc5",
        "colab": {
          "base_uri": "https://localhost:8080/",
          "height": 1000
        }
      },
      "source": [
        "def objective(trial):\n",
        "    gc.collect()\n",
        "    pruning_callback = optuna.integration.LightGBMPruningCallback(trial, 'l2')\n",
        "    params = {\n",
        "        'boosting_type': 'gbdt',\n",
        "        'objective': 'regression',\n",
        "        'metric': 'l2',\n",
        "        'num_leaves': trial.suggest_int('num_leaves', 2, 250),\n",
        "        'learning_rate': 0.5,\n",
        "        'subsample': 0.25,\n",
        "        'subample_freq': 1,\n",
        "        'lambda_l1': trial.suggest_loguniform('lambda_l1', 1e-8, 10.0),\n",
        "        'lambda_l2': trial.suggest_loguniform('lambda_l2', 1e-8, 10.0),\n",
        "        'feature_fraction': trial.suggest_uniform('feature_fraction', 0.4, 1.0),\n",
        "        'bagging_fraction': trial.suggest_uniform('bagging_fraction', 0.1, 1.0),\n",
        "        'bagging_freq': 5,\n",
        "        'verbose': 1,\n",
        "    }\n",
        "    X_train, X_valid, y_train, y_valid = train_test_split(train,target,test_size=0.1, random_state=random.randint(1,1000), shuffle=True)\n",
        "    dtrain = lgb.Dataset(X_train, label=y_train)\n",
        "    dvalid = lgb.Dataset(X_valid, label=y_valid)\n",
        "    model = lgb.train(params,\n",
        "                  dtrain,\n",
        "                  num_boost_round=500,\n",
        "                  valid_sets=dvalid,\n",
        "                  early_stopping_rounds=5,\n",
        "                  verbose_eval=100,\n",
        "                  callbacks=[pruning_callback])\n",
        "    gc.collect()\n",
        "    i=0\n",
        "    res=[]\n",
        "    step_size = 1000000\n",
        "    for j in tqdm(range(int(np.ceil(X_valid.shape[0]/1000000)))):\n",
        "        res.append(model.predict(X_valid.iloc[i:i+step_size],num_iteration=model.best_iteration))\n",
        "        i+=step_size\n",
        "    preds = np.concatenate(res)\n",
        "    return np.sqrt(mean_squared_error(y_valid,preds))\n",
        "\n",
        "study = optuna.create_study(pruner=optuna.pruners.MedianPruner(n_warmup_steps=10))\n",
        "study.optimize(objective, n_trials=60)\n",
        "\n",
        "print(study.best_params)"
      ],
      "execution_count": 26,
      "outputs": [
        {
          "output_type": "stream",
          "text": [
            "Training until validation scores don't improve for 5 rounds.\n",
            "[100]\tvalid_0's l2: 0.765886\n",
            "[200]\tvalid_0's l2: 0.644599\n",
            "[300]\tvalid_0's l2: 0.571486\n",
            "[400]\tvalid_0's l2: 0.533681\n",
            "[500]\tvalid_0's l2: 0.513203\n",
            "Did not meet early stopping. Best iteration is:\n",
            "[500]\tvalid_0's l2: 0.513203\n"
          ],
          "name": "stdout"
        },
        {
          "output_type": "stream",
          "text": [
            "100%|██████████| 2/2 [00:17<00:00,  8.99s/it]\n",
            "\u001b[32m[I 2019-11-08 13:55:28,750]\u001b[0m Finished trial#0 resulted in value: 0.7163815824000324. Current best value is 0.7163815824000324 with parameters: {'num_leaves': 94, 'lambda_l1': 4.282283074936329e-08, 'lambda_l2': 3.012123700190518e-07, 'feature_fraction': 0.5640724977988825, 'bagging_fraction': 0.1446946218093187}.\u001b[0m\n"
          ],
          "name": "stderr"
        },
        {
          "output_type": "stream",
          "text": [
            "Training until validation scores don't improve for 5 rounds.\n",
            "[100]\tvalid_0's l2: 0.768765\n",
            "[200]\tvalid_0's l2: 0.622889\n",
            "[300]\tvalid_0's l2: 0.555603\n",
            "[400]\tvalid_0's l2: 0.517559\n",
            "[500]\tvalid_0's l2: 0.49522\n",
            "Did not meet early stopping. Best iteration is:\n",
            "[500]\tvalid_0's l2: 0.49522\n"
          ],
          "name": "stdout"
        },
        {
          "output_type": "stream",
          "text": [
            "100%|██████████| 2/2 [00:17<00:00,  8.97s/it]\n",
            "\u001b[32m[I 2019-11-08 13:59:44,480]\u001b[0m Finished trial#1 resulted in value: 0.703718717329. Current best value is 0.703718717329 with parameters: {'num_leaves': 94, 'lambda_l1': 1.1220986590670759e-07, 'lambda_l2': 1.841575268234306e-07, 'feature_fraction': 0.5412225682986602, 'bagging_fraction': 0.28808310320882985}.\u001b[0m\n"
          ],
          "name": "stderr"
        },
        {
          "output_type": "stream",
          "text": [
            "Training until validation scores don't improve for 5 rounds.\n",
            "[100]\tvalid_0's l2: 0.74681\n",
            "[200]\tvalid_0's l2: 0.602207\n",
            "[300]\tvalid_0's l2: 0.548454\n",
            "[400]\tvalid_0's l2: 0.516646\n",
            "[500]\tvalid_0's l2: 0.495399\n",
            "Did not meet early stopping. Best iteration is:\n",
            "[500]\tvalid_0's l2: 0.495399\n"
          ],
          "name": "stdout"
        },
        {
          "output_type": "stream",
          "text": [
            "100%|██████████| 2/2 [00:17<00:00,  8.70s/it]\n",
            "\u001b[32m[I 2019-11-08 14:03:25,753]\u001b[0m Finished trial#2 resulted in value: 0.7038460436183891. Current best value is 0.703718717329 with parameters: {'num_leaves': 94, 'lambda_l1': 1.1220986590670759e-07, 'lambda_l2': 1.841575268234306e-07, 'feature_fraction': 0.5412225682986602, 'bagging_fraction': 0.28808310320882985}.\u001b[0m\n"
          ],
          "name": "stderr"
        },
        {
          "output_type": "stream",
          "text": [
            "Training until validation scores don't improve for 5 rounds.\n",
            "[100]\tvalid_0's l2: 0.580493\n",
            "[200]\tvalid_0's l2: 0.495856\n",
            "[300]\tvalid_0's l2: 0.456741\n",
            "[400]\tvalid_0's l2: 0.439737\n",
            "[500]\tvalid_0's l2: 0.427003\n",
            "Did not meet early stopping. Best iteration is:\n",
            "[500]\tvalid_0's l2: 0.427003\n"
          ],
          "name": "stdout"
        },
        {
          "output_type": "stream",
          "text": [
            "100%|██████████| 2/2 [00:27<00:00, 13.63s/it]\n",
            "\u001b[32m[I 2019-11-08 14:08:19,552]\u001b[0m Finished trial#3 resulted in value: 0.6534549083909642. Current best value is 0.6534549083909642 with parameters: {'num_leaves': 224, 'lambda_l1': 2.152731996954887, 'lambda_l2': 1.6108138489010812e-07, 'feature_fraction': 0.6324582940207559, 'bagging_fraction': 0.20792201651542003}.\u001b[0m\n"
          ],
          "name": "stderr"
        },
        {
          "output_type": "stream",
          "text": [
            "Training until validation scores don't improve for 5 rounds.\n",
            "[100]\tvalid_0's l2: 0.519221\n",
            "[200]\tvalid_0's l2: 0.435905\n",
            "[300]\tvalid_0's l2: 0.403383\n",
            "[400]\tvalid_0's l2: 0.384615\n",
            "[500]\tvalid_0's l2: 0.374777\n",
            "Did not meet early stopping. Best iteration is:\n",
            "[500]\tvalid_0's l2: 0.374777\n"
          ],
          "name": "stdout"
        },
        {
          "output_type": "stream",
          "text": [
            "100%|██████████| 2/2 [00:25<00:00, 12.64s/it]\n",
            "\u001b[32m[I 2019-11-08 14:13:24,349]\u001b[0m Finished trial#4 resulted in value: 0.6121900109552334. Current best value is 0.6121900109552334 with parameters: {'num_leaves': 232, 'lambda_l1': 3.657488383342899e-07, 'lambda_l2': 0.00011752008908290017, 'feature_fraction': 0.8415606092351481, 'bagging_fraction': 0.2646238058692366}.\u001b[0m\n"
          ],
          "name": "stderr"
        },
        {
          "output_type": "stream",
          "text": [
            "Training until validation scores don't improve for 5 rounds.\n"
          ],
          "name": "stdout"
        },
        {
          "output_type": "stream",
          "text": [
            "\u001b[32m[I 2019-11-08 14:13:55,681]\u001b[0m Setting status of trial#5 as TrialState.PRUNED. Trial was pruned at iteration 11.\u001b[0m\n"
          ],
          "name": "stderr"
        },
        {
          "output_type": "stream",
          "text": [
            "Training until validation scores don't improve for 5 rounds.\n"
          ],
          "name": "stdout"
        },
        {
          "output_type": "stream",
          "text": [
            "\u001b[32m[I 2019-11-08 14:14:44,609]\u001b[0m Setting status of trial#6 as TrialState.PRUNED. Trial was pruned at iteration 22.\u001b[0m\n"
          ],
          "name": "stderr"
        },
        {
          "output_type": "stream",
          "text": [
            "Training until validation scores don't improve for 5 rounds.\n"
          ],
          "name": "stdout"
        },
        {
          "output_type": "stream",
          "text": [
            "\u001b[32m[I 2019-11-08 14:15:15,743]\u001b[0m Setting status of trial#7 as TrialState.PRUNED. Trial was pruned at iteration 11.\u001b[0m\n"
          ],
          "name": "stderr"
        },
        {
          "output_type": "stream",
          "text": [
            "Training until validation scores don't improve for 5 rounds.\n",
            "[100]\tvalid_0's l2: 0.66042\n",
            "[200]\tvalid_0's l2: 0.575735\n",
            "[300]\tvalid_0's l2: 0.512571\n",
            "[400]\tvalid_0's l2: 0.484807\n",
            "[500]\tvalid_0's l2: 0.464256\n",
            "Did not meet early stopping. Best iteration is:\n",
            "[500]\tvalid_0's l2: 0.464256\n"
          ],
          "name": "stdout"
        },
        {
          "output_type": "stream",
          "text": [
            "100%|██████████| 2/2 [00:28<00:00, 14.39s/it]\n",
            "\u001b[32m[I 2019-11-08 14:20:17,348]\u001b[0m Finished trial#8 resulted in value: 0.6813633278465839. Current best value is 0.6121900109552334 with parameters: {'num_leaves': 232, 'lambda_l1': 3.657488383342899e-07, 'lambda_l2': 0.00011752008908290017, 'feature_fraction': 0.8415606092351481, 'bagging_fraction': 0.2646238058692366}.\u001b[0m\n"
          ],
          "name": "stderr"
        },
        {
          "output_type": "stream",
          "text": [
            "Training until validation scores don't improve for 5 rounds.\n"
          ],
          "name": "stdout"
        },
        {
          "output_type": "stream",
          "text": [
            "\u001b[32m[I 2019-11-08 14:21:15,613]\u001b[0m Setting status of trial#9 as TrialState.PRUNED. Trial was pruned at iteration 15.\u001b[0m\n"
          ],
          "name": "stderr"
        },
        {
          "output_type": "stream",
          "text": [
            "Training until validation scores don't improve for 5 rounds.\n",
            "[100]\tvalid_0's l2: 0.564226\n",
            "[200]\tvalid_0's l2: 0.454219\n",
            "[300]\tvalid_0's l2: 0.402439\n",
            "[400]\tvalid_0's l2: 0.371\n",
            "[500]\tvalid_0's l2: 0.350645\n",
            "Did not meet early stopping. Best iteration is:\n",
            "[500]\tvalid_0's l2: 0.350645\n"
          ],
          "name": "stdout"
        },
        {
          "output_type": "stream",
          "text": [
            "100%|██████████| 2/2 [00:22<00:00, 11.18s/it]\n",
            "\u001b[32m[I 2019-11-08 14:28:58,862]\u001b[0m Finished trial#10 resulted in value: 0.5921524522159262. Current best value is 0.5921524522159262 with parameters: {'num_leaves': 162, 'lambda_l1': 1.4698107099879987e-05, 'lambda_l2': 0.001976094990534601, 'feature_fraction': 0.8826998092949008, 'bagging_fraction': 0.7483484177635009}.\u001b[0m\n"
          ],
          "name": "stderr"
        },
        {
          "output_type": "stream",
          "text": [
            "Training until validation scores don't improve for 5 rounds.\n",
            "[100]\tvalid_0's l2: 0.555321\n",
            "[200]\tvalid_0's l2: 0.450211\n",
            "[300]\tvalid_0's l2: 0.401226\n",
            "[400]\tvalid_0's l2: 0.366249\n",
            "[500]\tvalid_0's l2: 0.345667\n",
            "Did not meet early stopping. Best iteration is:\n",
            "[500]\tvalid_0's l2: 0.345667\n"
          ],
          "name": "stdout"
        },
        {
          "output_type": "stream",
          "text": [
            "100%|██████████| 2/2 [00:21<00:00, 10.91s/it]\n",
            "\u001b[32m[I 2019-11-08 14:37:26,010]\u001b[0m Finished trial#11 resulted in value: 0.5879342736029176. Current best value is 0.5879342736029176 with parameters: {'num_leaves': 177, 'lambda_l1': 1.3854414874684488e-05, 'lambda_l2': 0.0004327435289084226, 'feature_fraction': 0.859878892523243, 'bagging_fraction': 0.8417260871045054}.\u001b[0m\n"
          ],
          "name": "stderr"
        },
        {
          "output_type": "stream",
          "text": [
            "Training until validation scores don't improve for 5 rounds.\n",
            "[100]\tvalid_0's l2: 0.563256\n",
            "[200]\tvalid_0's l2: 0.457851\n",
            "[300]\tvalid_0's l2: 0.406603\n",
            "[400]\tvalid_0's l2: 0.375025\n",
            "[500]\tvalid_0's l2: 0.352528\n",
            "Did not meet early stopping. Best iteration is:\n",
            "[500]\tvalid_0's l2: 0.352528\n"
          ],
          "name": "stdout"
        },
        {
          "output_type": "stream",
          "text": [
            "100%|██████████| 2/2 [00:21<00:00, 10.90s/it]\n",
            "\u001b[32m[I 2019-11-08 14:45:45,559]\u001b[0m Finished trial#12 resulted in value: 0.5937410774530673. Current best value is 0.5879342736029176 with parameters: {'num_leaves': 177, 'lambda_l1': 1.3854414874684488e-05, 'lambda_l2': 0.0004327435289084226, 'feature_fraction': 0.859878892523243, 'bagging_fraction': 0.8417260871045054}.\u001b[0m\n"
          ],
          "name": "stderr"
        },
        {
          "output_type": "stream",
          "text": [
            "Training until validation scores don't improve for 5 rounds.\n"
          ],
          "name": "stdout"
        },
        {
          "output_type": "stream",
          "text": [
            "\u001b[32m[I 2019-11-08 14:46:35,657]\u001b[0m Setting status of trial#13 as TrialState.PRUNED. Trial was pruned at iteration 11.\u001b[0m\n"
          ],
          "name": "stderr"
        },
        {
          "output_type": "stream",
          "text": [
            "Training until validation scores don't improve for 5 rounds.\n"
          ],
          "name": "stdout"
        },
        {
          "output_type": "stream",
          "text": [
            "\u001b[32m[I 2019-11-08 14:47:27,715]\u001b[0m Setting status of trial#14 as TrialState.PRUNED. Trial was pruned at iteration 11.\u001b[0m\n"
          ],
          "name": "stderr"
        },
        {
          "output_type": "stream",
          "text": [
            "Training until validation scores don't improve for 5 rounds.\n",
            "[100]\tvalid_0's l2: 0.556678\n",
            "[200]\tvalid_0's l2: 0.450732\n",
            "[300]\tvalid_0's l2: 0.402938\n",
            "[400]\tvalid_0's l2: 0.374064\n",
            "[500]\tvalid_0's l2: 0.353435\n",
            "Did not meet early stopping. Best iteration is:\n",
            "[500]\tvalid_0's l2: 0.353435\n"
          ],
          "name": "stdout"
        },
        {
          "output_type": "stream",
          "text": [
            "100%|██████████| 2/2 [00:23<00:00, 11.94s/it]\n",
            "\u001b[32m[I 2019-11-08 14:54:51,307]\u001b[0m Finished trial#15 resulted in value: 0.5945041814196296. Current best value is 0.5879342736029176 with parameters: {'num_leaves': 177, 'lambda_l1': 1.3854414874684488e-05, 'lambda_l2': 0.0004327435289084226, 'feature_fraction': 0.859878892523243, 'bagging_fraction': 0.8417260871045054}.\u001b[0m\n"
          ],
          "name": "stderr"
        },
        {
          "output_type": "stream",
          "text": [
            "Training until validation scores don't improve for 5 rounds.\n",
            "[100]\tvalid_0's l2: 0.478493\n",
            "[200]\tvalid_0's l2: 0.390299\n",
            "[300]\tvalid_0's l2: 0.345437\n",
            "[400]\tvalid_0's l2: 0.322558\n",
            "[500]\tvalid_0's l2: 0.307671\n",
            "Did not meet early stopping. Best iteration is:\n",
            "[500]\tvalid_0's l2: 0.307671\n"
          ],
          "name": "stdout"
        },
        {
          "output_type": "stream",
          "text": [
            "100%|██████████| 2/2 [00:26<00:00, 13.08s/it]\n",
            "\u001b[32m[I 2019-11-08 15:04:46,638]\u001b[0m Finished trial#16 resulted in value: 0.554680694605999. Current best value is 0.554680694605999 with parameters: {'num_leaves': 250, 'lambda_l1': 1.96385087355005e-06, 'lambda_l2': 0.09920267282879691, 'feature_fraction': 0.8947374768107834, 'bagging_fraction': 0.9965040045763913}.\u001b[0m\n"
          ],
          "name": "stderr"
        },
        {
          "output_type": "stream",
          "text": [
            "Training until validation scores don't improve for 5 rounds.\n",
            "[100]\tvalid_0's l2: 0.489293\n",
            "[200]\tvalid_0's l2: 0.391161\n",
            "[300]\tvalid_0's l2: 0.351969\n",
            "[400]\tvalid_0's l2: 0.325664\n",
            "[500]\tvalid_0's l2: 0.309456\n",
            "Did not meet early stopping. Best iteration is:\n",
            "[500]\tvalid_0's l2: 0.309456\n"
          ],
          "name": "stdout"
        },
        {
          "output_type": "stream",
          "text": [
            "100%|██████████| 2/2 [00:26<00:00, 13.26s/it]\n",
            "\u001b[32m[I 2019-11-08 15:15:12,475]\u001b[0m Finished trial#17 resulted in value: 0.5562879403013523. Current best value is 0.554680694605999 with parameters: {'num_leaves': 250, 'lambda_l1': 1.96385087355005e-06, 'lambda_l2': 0.09920267282879691, 'feature_fraction': 0.8947374768107834, 'bagging_fraction': 0.9965040045763913}.\u001b[0m\n"
          ],
          "name": "stderr"
        },
        {
          "output_type": "stream",
          "text": [
            "Training until validation scores don't improve for 5 rounds.\n",
            "[100]\tvalid_0's l2: 0.478277\n",
            "[200]\tvalid_0's l2: 0.391633\n",
            "[300]\tvalid_0's l2: 0.348109\n",
            "[400]\tvalid_0's l2: 0.321358\n",
            "[500]\tvalid_0's l2: 0.303444\n",
            "Did not meet early stopping. Best iteration is:\n",
            "[500]\tvalid_0's l2: 0.303444\n"
          ],
          "name": "stdout"
        },
        {
          "output_type": "stream",
          "text": [
            "100%|██████████| 2/2 [00:26<00:00, 13.30s/it]\n",
            "\u001b[32m[I 2019-11-08 15:25:43,389]\u001b[0m Finished trial#18 resulted in value: 0.5508572112487604. Current best value is 0.5508572112487604 with parameters: {'num_leaves': 250, 'lambda_l1': 1.1950069081340828e-06, 'lambda_l2': 0.4863008634602687, 'feature_fraction': 0.9543235876804018, 'bagging_fraction': 0.9821595681875143}.\u001b[0m\n"
          ],
          "name": "stderr"
        },
        {
          "output_type": "stream",
          "text": [
            "Training until validation scores don't improve for 5 rounds.\n"
          ],
          "name": "stdout"
        },
        {
          "output_type": "stream",
          "text": [
            "\u001b[32m[I 2019-11-08 15:26:41,736]\u001b[0m Setting status of trial#19 as TrialState.PRUNED. Trial was pruned at iteration 11.\u001b[0m\n"
          ],
          "name": "stderr"
        },
        {
          "output_type": "stream",
          "text": [
            "Training until validation scores don't improve for 5 rounds.\n",
            "[100]\tvalid_0's l2: 0.484586\n",
            "[200]\tvalid_0's l2: 0.392999\n",
            "[300]\tvalid_0's l2: 0.351436\n",
            "[400]\tvalid_0's l2: 0.32683\n",
            "[500]\tvalid_0's l2: 0.308606\n",
            "Did not meet early stopping. Best iteration is:\n",
            "[500]\tvalid_0's l2: 0.308606\n"
          ],
          "name": "stdout"
        },
        {
          "output_type": "stream",
          "text": [
            "100%|██████████| 2/2 [00:26<00:00, 13.34s/it]\n",
            "\u001b[32m[I 2019-11-08 15:36:18,989]\u001b[0m Finished trial#20 resulted in value: 0.5555234332156842. Current best value is 0.5508572112487604 with parameters: {'num_leaves': 250, 'lambda_l1': 1.1950069081340828e-06, 'lambda_l2': 0.4863008634602687, 'feature_fraction': 0.9543235876804018, 'bagging_fraction': 0.9821595681875143}.\u001b[0m\n"
          ],
          "name": "stderr"
        },
        {
          "output_type": "stream",
          "text": [
            "Training until validation scores don't improve for 5 rounds.\n",
            "[100]\tvalid_0's l2: 0.47383\n",
            "[200]\tvalid_0's l2: 0.394953\n",
            "[300]\tvalid_0's l2: 0.350442\n",
            "[400]\tvalid_0's l2: 0.327014\n",
            "[500]\tvalid_0's l2: 0.307381\n",
            "Did not meet early stopping. Best iteration is:\n",
            "[500]\tvalid_0's l2: 0.307381\n"
          ],
          "name": "stdout"
        },
        {
          "output_type": "stream",
          "text": [
            "100%|██████████| 2/2 [00:26<00:00, 13.16s/it]\n",
            "\u001b[32m[I 2019-11-08 15:46:18,470]\u001b[0m Finished trial#21 resulted in value: 0.5544198534397666. Current best value is 0.5508572112487604 with parameters: {'num_leaves': 250, 'lambda_l1': 1.1950069081340828e-06, 'lambda_l2': 0.4863008634602687, 'feature_fraction': 0.9543235876804018, 'bagging_fraction': 0.9821595681875143}.\u001b[0m\n"
          ],
          "name": "stderr"
        },
        {
          "output_type": "stream",
          "text": [
            "Training until validation scores don't improve for 5 rounds.\n",
            "[100]\tvalid_0's l2: 0.471256\n",
            "[200]\tvalid_0's l2: 0.390877\n",
            "[300]\tvalid_0's l2: 0.346578\n",
            "[400]\tvalid_0's l2: 0.32103\n",
            "[500]\tvalid_0's l2: 0.304161\n",
            "Did not meet early stopping. Best iteration is:\n",
            "[500]\tvalid_0's l2: 0.304161\n"
          ],
          "name": "stdout"
        },
        {
          "output_type": "stream",
          "text": [
            "100%|██████████| 2/2 [00:25<00:00, 13.01s/it]\n",
            "\u001b[32m[I 2019-11-08 15:56:33,580]\u001b[0m Finished trial#22 resulted in value: 0.5515082135004141. Current best value is 0.5508572112487604 with parameters: {'num_leaves': 250, 'lambda_l1': 1.1950069081340828e-06, 'lambda_l2': 0.4863008634602687, 'feature_fraction': 0.9543235876804018, 'bagging_fraction': 0.9821595681875143}.\u001b[0m\n"
          ],
          "name": "stderr"
        },
        {
          "output_type": "stream",
          "text": [
            "Training until validation scores don't improve for 5 rounds.\n",
            "[100]\tvalid_0's l2: 0.50978\n",
            "[200]\tvalid_0's l2: 0.411171\n",
            "[300]\tvalid_0's l2: 0.365954\n",
            "[400]\tvalid_0's l2: 0.340124\n",
            "[500]\tvalid_0's l2: 0.323308\n",
            "Did not meet early stopping. Best iteration is:\n",
            "[500]\tvalid_0's l2: 0.323308\n"
          ],
          "name": "stdout"
        },
        {
          "output_type": "stream",
          "text": [
            "100%|██████████| 2/2 [00:22<00:00, 11.10s/it]\n",
            "\u001b[32m[I 2019-11-08 16:05:15,521]\u001b[0m Finished trial#23 resulted in value: 0.5686017205373884. Current best value is 0.5508572112487604 with parameters: {'num_leaves': 250, 'lambda_l1': 1.1950069081340828e-06, 'lambda_l2': 0.4863008634602687, 'feature_fraction': 0.9543235876804018, 'bagging_fraction': 0.9821595681875143}.\u001b[0m\n"
          ],
          "name": "stderr"
        },
        {
          "output_type": "stream",
          "text": [
            "Training until validation scores don't improve for 5 rounds.\n",
            "[100]\tvalid_0's l2: 0.488115\n",
            "[200]\tvalid_0's l2: 0.397903\n",
            "[300]\tvalid_0's l2: 0.354849\n",
            "[400]\tvalid_0's l2: 0.331436\n",
            "[500]\tvalid_0's l2: 0.317207\n",
            "Did not meet early stopping. Best iteration is:\n",
            "[500]\tvalid_0's l2: 0.317207\n"
          ],
          "name": "stdout"
        },
        {
          "output_type": "stream",
          "text": [
            "100%|██████████| 2/2 [00:26<00:00, 13.31s/it]\n",
            "\u001b[32m[I 2019-11-08 16:13:08,009]\u001b[0m Finished trial#24 resulted in value: 0.5632113848590241. Current best value is 0.5508572112487604 with parameters: {'num_leaves': 250, 'lambda_l1': 1.1950069081340828e-06, 'lambda_l2': 0.4863008634602687, 'feature_fraction': 0.9543235876804018, 'bagging_fraction': 0.9821595681875143}.\u001b[0m\n"
          ],
          "name": "stderr"
        },
        {
          "output_type": "stream",
          "text": [
            "Training until validation scores don't improve for 5 rounds.\n",
            "[100]\tvalid_0's l2: 0.520082\n",
            "[200]\tvalid_0's l2: 0.427038\n",
            "[300]\tvalid_0's l2: 0.381103\n",
            "[400]\tvalid_0's l2: 0.353166\n",
            "[500]\tvalid_0's l2: 0.33454\n",
            "Did not meet early stopping. Best iteration is:\n",
            "[500]\tvalid_0's l2: 0.33454\n"
          ],
          "name": "stdout"
        },
        {
          "output_type": "stream",
          "text": [
            "100%|██████████| 2/2 [00:24<00:00, 12.41s/it]\n",
            "\u001b[32m[I 2019-11-08 16:22:12,851]\u001b[0m Finished trial#25 resulted in value: 0.5783946497539048. Current best value is 0.5508572112487604 with parameters: {'num_leaves': 250, 'lambda_l1': 1.1950069081340828e-06, 'lambda_l2': 0.4863008634602687, 'feature_fraction': 0.9543235876804018, 'bagging_fraction': 0.9821595681875143}.\u001b[0m\n"
          ],
          "name": "stderr"
        },
        {
          "output_type": "stream",
          "text": [
            "Training until validation scores don't improve for 5 rounds.\n"
          ],
          "name": "stdout"
        },
        {
          "output_type": "stream",
          "text": [
            "\u001b[32m[I 2019-11-08 16:23:08,455]\u001b[0m Setting status of trial#26 as TrialState.PRUNED. Trial was pruned at iteration 11.\u001b[0m\n"
          ],
          "name": "stderr"
        },
        {
          "output_type": "stream",
          "text": [
            "Training until validation scores don't improve for 5 rounds.\n"
          ],
          "name": "stdout"
        },
        {
          "output_type": "stream",
          "text": [
            "\u001b[32m[I 2019-11-08 16:24:02,472]\u001b[0m Setting status of trial#27 as TrialState.PRUNED. Trial was pruned at iteration 11.\u001b[0m\n"
          ],
          "name": "stderr"
        },
        {
          "output_type": "stream",
          "text": [
            "Training until validation scores don't improve for 5 rounds.\n"
          ],
          "name": "stdout"
        },
        {
          "output_type": "stream",
          "text": [
            "\u001b[32m[I 2019-11-08 16:24:51,529]\u001b[0m Setting status of trial#28 as TrialState.PRUNED. Trial was pruned at iteration 11.\u001b[0m\n"
          ],
          "name": "stderr"
        },
        {
          "output_type": "stream",
          "text": [
            "Training until validation scores don't improve for 5 rounds.\n"
          ],
          "name": "stdout"
        },
        {
          "output_type": "stream",
          "text": [
            "\u001b[32m[I 2019-11-08 16:26:38,927]\u001b[0m Setting status of trial#29 as TrialState.PRUNED. Trial was pruned at iteration 36.\u001b[0m\n"
          ],
          "name": "stderr"
        },
        {
          "output_type": "stream",
          "text": [
            "Training until validation scores don't improve for 5 rounds.\n"
          ],
          "name": "stdout"
        },
        {
          "output_type": "stream",
          "text": [
            "\u001b[32m[I 2019-11-08 16:27:16,893]\u001b[0m Setting status of trial#30 as TrialState.PRUNED. Trial was pruned at iteration 11.\u001b[0m\n"
          ],
          "name": "stderr"
        },
        {
          "output_type": "stream",
          "text": [
            "Training until validation scores don't improve for 5 rounds.\n",
            "[100]\tvalid_0's l2: 0.487508\n",
            "[200]\tvalid_0's l2: 0.404051\n",
            "[300]\tvalid_0's l2: 0.35908\n",
            "[400]\tvalid_0's l2: 0.334442\n",
            "[500]\tvalid_0's l2: 0.315975\n",
            "Did not meet early stopping. Best iteration is:\n",
            "[500]\tvalid_0's l2: 0.315975\n"
          ],
          "name": "stdout"
        },
        {
          "output_type": "stream",
          "text": [
            "100%|██████████| 2/2 [00:24<00:00, 12.46s/it]\n",
            "\u001b[32m[I 2019-11-08 16:36:57,877]\u001b[0m Finished trial#31 resulted in value: 0.562116210031615. Current best value is 0.5508572112487604 with parameters: {'num_leaves': 250, 'lambda_l1': 1.1950069081340828e-06, 'lambda_l2': 0.4863008634602687, 'feature_fraction': 0.9543235876804018, 'bagging_fraction': 0.9821595681875143}.\u001b[0m\n"
          ],
          "name": "stderr"
        },
        {
          "output_type": "stream",
          "text": [
            "Training until validation scores don't improve for 5 rounds.\n",
            "[100]\tvalid_0's l2: 0.485327\n",
            "[200]\tvalid_0's l2: 0.401608\n",
            "[300]\tvalid_0's l2: 0.356114\n",
            "[400]\tvalid_0's l2: 0.329107\n",
            "[500]\tvalid_0's l2: 0.310399\n",
            "Did not meet early stopping. Best iteration is:\n",
            "[500]\tvalid_0's l2: 0.310399\n"
          ],
          "name": "stdout"
        },
        {
          "output_type": "stream",
          "text": [
            "100%|██████████| 2/2 [00:26<00:00, 13.22s/it]\n",
            "\u001b[32m[I 2019-11-08 16:46:55,396]\u001b[0m Finished trial#32 resulted in value: 0.5571345791790505. Current best value is 0.5508572112487604 with parameters: {'num_leaves': 250, 'lambda_l1': 1.1950069081340828e-06, 'lambda_l2': 0.4863008634602687, 'feature_fraction': 0.9543235876804018, 'bagging_fraction': 0.9821595681875143}.\u001b[0m\n"
          ],
          "name": "stderr"
        },
        {
          "output_type": "stream",
          "text": [
            "Training until validation scores don't improve for 5 rounds.\n",
            "[100]\tvalid_0's l2: 0.486749\n",
            "[200]\tvalid_0's l2: 0.394305\n",
            "[300]\tvalid_0's l2: 0.353448\n",
            "[400]\tvalid_0's l2: 0.328479\n",
            "[500]\tvalid_0's l2: 0.312157\n",
            "Did not meet early stopping. Best iteration is:\n",
            "[500]\tvalid_0's l2: 0.312157\n"
          ],
          "name": "stdout"
        },
        {
          "output_type": "stream",
          "text": [
            "100%|██████████| 2/2 [00:26<00:00, 13.06s/it]\n",
            "\u001b[32m[I 2019-11-08 16:56:32,351]\u001b[0m Finished trial#33 resulted in value: 0.5587098338028195. Current best value is 0.5508572112487604 with parameters: {'num_leaves': 250, 'lambda_l1': 1.1950069081340828e-06, 'lambda_l2': 0.4863008634602687, 'feature_fraction': 0.9543235876804018, 'bagging_fraction': 0.9821595681875143}.\u001b[0m\n"
          ],
          "name": "stderr"
        },
        {
          "output_type": "stream",
          "text": [
            "Training until validation scores don't improve for 5 rounds.\n"
          ],
          "name": "stdout"
        },
        {
          "output_type": "stream",
          "text": [
            "\u001b[32m[I 2019-11-08 16:57:31,787]\u001b[0m Setting status of trial#34 as TrialState.PRUNED. Trial was pruned at iteration 11.\u001b[0m\n"
          ],
          "name": "stderr"
        },
        {
          "output_type": "stream",
          "text": [
            "Training until validation scores don't improve for 5 rounds.\n"
          ],
          "name": "stdout"
        },
        {
          "output_type": "stream",
          "text": [
            "\u001b[32m[I 2019-11-08 16:58:29,698]\u001b[0m Setting status of trial#35 as TrialState.PRUNED. Trial was pruned at iteration 11.\u001b[0m\n"
          ],
          "name": "stderr"
        },
        {
          "output_type": "stream",
          "text": [
            "Training until validation scores don't improve for 5 rounds.\n",
            "[100]\tvalid_0's l2: 0.480393\n",
            "[200]\tvalid_0's l2: 0.38749\n",
            "[300]\tvalid_0's l2: 0.347082\n",
            "[400]\tvalid_0's l2: 0.324269\n",
            "[500]\tvalid_0's l2: 0.309125\n",
            "Did not meet early stopping. Best iteration is:\n",
            "[500]\tvalid_0's l2: 0.309125\n"
          ],
          "name": "stdout"
        },
        {
          "output_type": "stream",
          "text": [
            "100%|██████████| 2/2 [00:25<00:00, 12.61s/it]\n",
            "\u001b[32m[I 2019-11-08 17:07:38,840]\u001b[0m Finished trial#36 resulted in value: 0.5559900228314936. Current best value is 0.5508572112487604 with parameters: {'num_leaves': 250, 'lambda_l1': 1.1950069081340828e-06, 'lambda_l2': 0.4863008634602687, 'feature_fraction': 0.9543235876804018, 'bagging_fraction': 0.9821595681875143}.\u001b[0m\n"
          ],
          "name": "stderr"
        },
        {
          "output_type": "stream",
          "text": [
            "Training until validation scores don't improve for 5 rounds.\n"
          ],
          "name": "stdout"
        },
        {
          "output_type": "stream",
          "text": [
            "\u001b[32m[I 2019-11-08 17:08:34,639]\u001b[0m Setting status of trial#37 as TrialState.PRUNED. Trial was pruned at iteration 11.\u001b[0m\n"
          ],
          "name": "stderr"
        },
        {
          "output_type": "stream",
          "text": [
            "Training until validation scores don't improve for 5 rounds.\n"
          ],
          "name": "stdout"
        },
        {
          "output_type": "stream",
          "text": [
            "\u001b[32m[I 2019-11-08 17:10:21,386]\u001b[0m Setting status of trial#38 as TrialState.PRUNED. Trial was pruned at iteration 34.\u001b[0m\n"
          ],
          "name": "stderr"
        },
        {
          "output_type": "stream",
          "text": [
            "Training until validation scores don't improve for 5 rounds.\n"
          ],
          "name": "stdout"
        },
        {
          "output_type": "stream",
          "text": [
            "\u001b[32m[I 2019-11-08 17:10:49,409]\u001b[0m Setting status of trial#39 as TrialState.PRUNED. Trial was pruned at iteration 11.\u001b[0m\n"
          ],
          "name": "stderr"
        },
        {
          "output_type": "stream",
          "text": [
            "Training until validation scores don't improve for 5 rounds.\n"
          ],
          "name": "stdout"
        },
        {
          "output_type": "stream",
          "text": [
            "\u001b[32m[I 2019-11-08 17:11:45,358]\u001b[0m Setting status of trial#40 as TrialState.PRUNED. Trial was pruned at iteration 11.\u001b[0m\n"
          ],
          "name": "stderr"
        },
        {
          "output_type": "stream",
          "text": [
            "Training until validation scores don't improve for 5 rounds.\n",
            "[100]\tvalid_0's l2: 0.487572\n",
            "[200]\tvalid_0's l2: 0.388689\n",
            "[300]\tvalid_0's l2: 0.349487\n",
            "[400]\tvalid_0's l2: 0.323729\n",
            "[500]\tvalid_0's l2: 0.308459\n",
            "Did not meet early stopping. Best iteration is:\n",
            "[500]\tvalid_0's l2: 0.308459\n"
          ],
          "name": "stdout"
        },
        {
          "output_type": "stream",
          "text": [
            "100%|██████████| 2/2 [00:24<00:00, 12.52s/it]\n",
            "\u001b[32m[I 2019-11-08 17:21:17,718]\u001b[0m Finished trial#41 resulted in value: 0.5553904488382713. Current best value is 0.5508572112487604 with parameters: {'num_leaves': 250, 'lambda_l1': 1.1950069081340828e-06, 'lambda_l2': 0.4863008634602687, 'feature_fraction': 0.9543235876804018, 'bagging_fraction': 0.9821595681875143}.\u001b[0m\n"
          ],
          "name": "stderr"
        },
        {
          "output_type": "stream",
          "text": [
            "Training until validation scores don't improve for 5 rounds.\n"
          ],
          "name": "stdout"
        },
        {
          "output_type": "stream",
          "text": [
            "\u001b[32m[I 2019-11-08 17:22:16,172]\u001b[0m Setting status of trial#42 as TrialState.PRUNED. Trial was pruned at iteration 11.\u001b[0m\n"
          ],
          "name": "stderr"
        },
        {
          "output_type": "stream",
          "text": [
            "Training until validation scores don't improve for 5 rounds.\n",
            "[100]\tvalid_0's l2: 0.482562\n",
            "[200]\tvalid_0's l2: 0.397672\n",
            "[300]\tvalid_0's l2: 0.353815\n",
            "[400]\tvalid_0's l2: 0.327761\n",
            "[500]\tvalid_0's l2: 0.309777\n",
            "Did not meet early stopping. Best iteration is:\n",
            "[500]\tvalid_0's l2: 0.309777\n"
          ],
          "name": "stdout"
        },
        {
          "output_type": "stream",
          "text": [
            "100%|██████████| 2/2 [00:24<00:00, 12.18s/it]\n",
            "\u001b[32m[I 2019-11-08 17:31:24,378]\u001b[0m Finished trial#43 resulted in value: 0.5565759728010995. Current best value is 0.5508572112487604 with parameters: {'num_leaves': 250, 'lambda_l1': 1.1950069081340828e-06, 'lambda_l2': 0.4863008634602687, 'feature_fraction': 0.9543235876804018, 'bagging_fraction': 0.9821595681875143}.\u001b[0m\n"
          ],
          "name": "stderr"
        },
        {
          "output_type": "stream",
          "text": [
            "Training until validation scores don't improve for 5 rounds.\n"
          ],
          "name": "stdout"
        },
        {
          "output_type": "stream",
          "text": [
            "\u001b[32m[I 2019-11-08 17:32:22,645]\u001b[0m Setting status of trial#44 as TrialState.PRUNED. Trial was pruned at iteration 11.\u001b[0m\n"
          ],
          "name": "stderr"
        },
        {
          "output_type": "stream",
          "text": [
            "Training until validation scores don't improve for 5 rounds.\n"
          ],
          "name": "stdout"
        },
        {
          "output_type": "stream",
          "text": [
            "\u001b[32m[I 2019-11-08 17:33:12,245]\u001b[0m Setting status of trial#45 as TrialState.PRUNED. Trial was pruned at iteration 11.\u001b[0m\n"
          ],
          "name": "stderr"
        },
        {
          "output_type": "stream",
          "text": [
            "Training until validation scores don't improve for 5 rounds.\n"
          ],
          "name": "stdout"
        },
        {
          "output_type": "stream",
          "text": [
            "\u001b[32m[I 2019-11-08 17:33:47,084]\u001b[0m Setting status of trial#46 as TrialState.PRUNED. Trial was pruned at iteration 12.\u001b[0m\n"
          ],
          "name": "stderr"
        },
        {
          "output_type": "stream",
          "text": [
            "Training until validation scores don't improve for 5 rounds.\n"
          ],
          "name": "stdout"
        },
        {
          "output_type": "stream",
          "text": [
            "\u001b[32m[I 2019-11-08 17:34:29,908]\u001b[0m Setting status of trial#47 as TrialState.PRUNED. Trial was pruned at iteration 11.\u001b[0m\n"
          ],
          "name": "stderr"
        },
        {
          "output_type": "stream",
          "text": [
            "Training until validation scores don't improve for 5 rounds.\n"
          ],
          "name": "stdout"
        },
        {
          "output_type": "stream",
          "text": [
            "\u001b[32m[I 2019-11-08 17:35:20,653]\u001b[0m Setting status of trial#48 as TrialState.PRUNED. Trial was pruned at iteration 11.\u001b[0m\n"
          ],
          "name": "stderr"
        },
        {
          "output_type": "stream",
          "text": [
            "Training until validation scores don't improve for 5 rounds.\n"
          ],
          "name": "stdout"
        },
        {
          "output_type": "stream",
          "text": [
            "\u001b[32m[I 2019-11-08 17:36:14,246]\u001b[0m Setting status of trial#49 as TrialState.PRUNED. Trial was pruned at iteration 11.\u001b[0m\n"
          ],
          "name": "stderr"
        },
        {
          "output_type": "stream",
          "text": [
            "Training until validation scores don't improve for 5 rounds.\n"
          ],
          "name": "stdout"
        },
        {
          "output_type": "stream",
          "text": [
            "\u001b[32m[I 2019-11-08 17:36:58,021]\u001b[0m Setting status of trial#50 as TrialState.PRUNED. Trial was pruned at iteration 11.\u001b[0m\n"
          ],
          "name": "stderr"
        },
        {
          "output_type": "stream",
          "text": [
            "Training until validation scores don't improve for 5 rounds.\n"
          ],
          "name": "stdout"
        },
        {
          "output_type": "stream",
          "text": [
            "\u001b[32m[I 2019-11-08 17:38:09,027]\u001b[0m Setting status of trial#51 as TrialState.PRUNED. Trial was pruned at iteration 17.\u001b[0m\n"
          ],
          "name": "stderr"
        },
        {
          "output_type": "stream",
          "text": [
            "Training until validation scores don't improve for 5 rounds.\n",
            "[100]\tvalid_0's l2: 0.480327\n",
            "[200]\tvalid_0's l2: 0.385302\n",
            "[300]\tvalid_0's l2: 0.344825\n",
            "[400]\tvalid_0's l2: 0.320414\n",
            "[500]\tvalid_0's l2: 0.304059\n",
            "Did not meet early stopping. Best iteration is:\n",
            "[500]\tvalid_0's l2: 0.304059\n"
          ],
          "name": "stdout"
        },
        {
          "output_type": "stream",
          "text": [
            "100%|██████████| 2/2 [00:25<00:00, 12.77s/it]\n",
            "\u001b[32m[I 2019-11-08 17:47:17,786]\u001b[0m Finished trial#52 resulted in value: 0.5514158255260515. Current best value is 0.5508572112487604 with parameters: {'num_leaves': 250, 'lambda_l1': 1.1950069081340828e-06, 'lambda_l2': 0.4863008634602687, 'feature_fraction': 0.9543235876804018, 'bagging_fraction': 0.9821595681875143}.\u001b[0m\n"
          ],
          "name": "stderr"
        },
        {
          "output_type": "stream",
          "text": [
            "Training until validation scores don't improve for 5 rounds.\n"
          ],
          "name": "stdout"
        },
        {
          "output_type": "stream",
          "text": [
            "\u001b[32m[I 2019-11-08 17:48:13,168]\u001b[0m Setting status of trial#53 as TrialState.PRUNED. Trial was pruned at iteration 11.\u001b[0m\n"
          ],
          "name": "stderr"
        },
        {
          "output_type": "stream",
          "text": [
            "Training until validation scores don't improve for 5 rounds.\n"
          ],
          "name": "stdout"
        },
        {
          "output_type": "stream",
          "text": [
            "\u001b[32m[I 2019-11-08 17:49:11,726]\u001b[0m Setting status of trial#54 as TrialState.PRUNED. Trial was pruned at iteration 11.\u001b[0m\n"
          ],
          "name": "stderr"
        },
        {
          "output_type": "stream",
          "text": [
            "Training until validation scores don't improve for 5 rounds.\n"
          ],
          "name": "stdout"
        },
        {
          "output_type": "stream",
          "text": [
            "\u001b[32m[I 2019-11-08 17:49:57,617]\u001b[0m Setting status of trial#55 as TrialState.PRUNED. Trial was pruned at iteration 11.\u001b[0m\n"
          ],
          "name": "stderr"
        },
        {
          "output_type": "stream",
          "text": [
            "Training until validation scores don't improve for 5 rounds.\n"
          ],
          "name": "stdout"
        },
        {
          "output_type": "stream",
          "text": [
            "\u001b[32m[I 2019-11-08 17:51:28,530]\u001b[0m Setting status of trial#56 as TrialState.PRUNED. Trial was pruned at iteration 27.\u001b[0m\n"
          ],
          "name": "stderr"
        },
        {
          "output_type": "stream",
          "text": [
            "Training until validation scores don't improve for 5 rounds.\n"
          ],
          "name": "stdout"
        },
        {
          "output_type": "stream",
          "text": [
            "\u001b[32m[I 2019-11-08 17:52:24,218]\u001b[0m Setting status of trial#57 as TrialState.PRUNED. Trial was pruned at iteration 11.\u001b[0m\n"
          ],
          "name": "stderr"
        },
        {
          "output_type": "stream",
          "text": [
            "Training until validation scores don't improve for 5 rounds.\n",
            "[100]\tvalid_0's l2: 0.468668\n",
            "[200]\tvalid_0's l2: 0.381852\n",
            "[300]\tvalid_0's l2: 0.345248\n",
            "[400]\tvalid_0's l2: 0.32127\n",
            "[500]\tvalid_0's l2: 0.306155\n",
            "Did not meet early stopping. Best iteration is:\n",
            "[500]\tvalid_0's l2: 0.306155\n"
          ],
          "name": "stdout"
        },
        {
          "output_type": "stream",
          "text": [
            "100%|██████████| 2/2 [00:25<00:00, 12.84s/it]\n",
            "\u001b[32m[I 2019-11-08 18:01:27,346]\u001b[0m Finished trial#58 resulted in value: 0.5533131079128342. Current best value is 0.5508572112487604 with parameters: {'num_leaves': 250, 'lambda_l1': 1.1950069081340828e-06, 'lambda_l2': 0.4863008634602687, 'feature_fraction': 0.9543235876804018, 'bagging_fraction': 0.9821595681875143}.\u001b[0m\n"
          ],
          "name": "stderr"
        },
        {
          "output_type": "stream",
          "text": [
            "Training until validation scores don't improve for 5 rounds.\n"
          ],
          "name": "stdout"
        },
        {
          "output_type": "stream",
          "text": [
            "\u001b[32m[I 2019-11-08 18:02:21,222]\u001b[0m Setting status of trial#59 as TrialState.PRUNED. Trial was pruned at iteration 11.\u001b[0m\n"
          ],
          "name": "stderr"
        },
        {
          "output_type": "stream",
          "text": [
            "{'num_leaves': 250, 'lambda_l1': 1.1950069081340828e-06, 'lambda_l2': 0.4863008634602687, 'feature_fraction': 0.9543235876804018, 'bagging_fraction': 0.9821595681875143}\n"
          ],
          "name": "stdout"
        }
      ]
    },
    {
      "cell_type": "code",
      "metadata": {
        "id": "OcnqW3uvM3Ak",
        "colab_type": "code",
        "colab": {
          "base_uri": "https://localhost:8080/",
          "height": 54
        },
        "outputId": "7234e10e-8dda-433b-dc62-91e7f81ece6f"
      },
      "source": [
        "print(study.best_params)"
      ],
      "execution_count": 27,
      "outputs": [
        {
          "output_type": "stream",
          "text": [
            "{'num_leaves': 250, 'lambda_l1': 1.1950069081340828e-06, 'lambda_l2': 0.4863008634602687, 'feature_fraction': 0.9543235876804018, 'bagging_fraction': 0.9821595681875143}\n"
          ],
          "name": "stdout"
        }
      ]
    },
    {
      "cell_type": "code",
      "metadata": {
        "id": "kMPsByuEFstK",
        "colab_type": "code",
        "colab": {}
      },
      "source": [
        "best = study.best_params\n",
        "best['learning_rate'] = 0.5\n",
        "best['objective'] = 'regression'\n",
        "best['subsample'] = 0.25\n",
        "best['metric'] = 'l2'\n",
        "best['verbose'] = 1"
      ],
      "execution_count": 0,
      "outputs": []
    },
    {
      "cell_type": "code",
      "metadata": {
        "id": "1VBUYZnHGdBf",
        "colab_type": "code",
        "colab": {
          "base_uri": "https://localhost:8080/",
          "height": 170
        },
        "outputId": "6b30be7b-0790-4d2b-92f2-5d0ac60eb659"
      },
      "source": [
        "model = lgb.train(best,lgb.Dataset(train, label=target),verbose_eval=True,num_boost_round=500)\n",
        "i=0\n",
        "res=[]\n",
        "step_size = 1000000\n",
        "for j in tqdm(range(int(np.ceil(test.shape[0]/1000000)))):\n",
        "    res.append(np.expm1(model.predict(test.iloc[i:i+step_size],num_iteration=model.best_iteration)))\n",
        "    i+=step_size\n",
        "print(\"Saving!\")\n",
        "sub[\"meter_reading\"] = np.concatenate(res)\n",
        "sub[\"meter_reading\"][sub[\"meter_reading\"] < 0] = 0\n",
        "sub.to_csv(\"submission.csv\", index = False)"
      ],
      "execution_count": 29,
      "outputs": [
        {
          "output_type": "stream",
          "text": [
            "100%|██████████| 42/42 [07:51<00:00, 10.65s/it]\n"
          ],
          "name": "stderr"
        },
        {
          "output_type": "stream",
          "text": [
            "Saving!\n"
          ],
          "name": "stdout"
        },
        {
          "output_type": "stream",
          "text": [
            "/usr/local/lib/python3.6/dist-packages/ipykernel_launcher.py:10: SettingWithCopyWarning:\n",
            "\n",
            "\n",
            "A value is trying to be set on a copy of a slice from a DataFrame\n",
            "\n",
            "See the caveats in the documentation: http://pandas.pydata.org/pandas-docs/stable/user_guide/indexing.html#returning-a-view-versus-a-copy\n",
            "\n"
          ],
          "name": "stderr"
        }
      ]
    },
    {
      "cell_type": "code",
      "metadata": {
        "id": "_QVcOwbJILER",
        "colab_type": "code",
        "colab": {
          "base_uri": "https://localhost:8080/",
          "height": 204
        },
        "outputId": "5732248e-b6df-4bba-b9f6-d727988ab9f1"
      },
      "source": [
        "sub.head()"
      ],
      "execution_count": 30,
      "outputs": [
        {
          "output_type": "execute_result",
          "data": {
            "text/html": [
              "<div>\n",
              "<style scoped>\n",
              "    .dataframe tbody tr th:only-of-type {\n",
              "        vertical-align: middle;\n",
              "    }\n",
              "\n",
              "    .dataframe tbody tr th {\n",
              "        vertical-align: top;\n",
              "    }\n",
              "\n",
              "    .dataframe thead th {\n",
              "        text-align: right;\n",
              "    }\n",
              "</style>\n",
              "<table border=\"1\" class=\"dataframe\">\n",
              "  <thead>\n",
              "    <tr style=\"text-align: right;\">\n",
              "      <th></th>\n",
              "      <th>row_id</th>\n",
              "      <th>meter_reading</th>\n",
              "    </tr>\n",
              "  </thead>\n",
              "  <tbody>\n",
              "    <tr>\n",
              "      <th>0</th>\n",
              "      <td>0</td>\n",
              "      <td>138.666427</td>\n",
              "    </tr>\n",
              "    <tr>\n",
              "      <th>1</th>\n",
              "      <td>1</td>\n",
              "      <td>174.007271</td>\n",
              "    </tr>\n",
              "    <tr>\n",
              "      <th>2</th>\n",
              "      <td>2</td>\n",
              "      <td>15.618977</td>\n",
              "    </tr>\n",
              "    <tr>\n",
              "      <th>3</th>\n",
              "      <td>3</td>\n",
              "      <td>388.048606</td>\n",
              "    </tr>\n",
              "    <tr>\n",
              "      <th>4</th>\n",
              "      <td>4</td>\n",
              "      <td>2449.129995</td>\n",
              "    </tr>\n",
              "  </tbody>\n",
              "</table>\n",
              "</div>"
            ],
            "text/plain": [
              "   row_id  meter_reading\n",
              "0       0     138.666427\n",
              "1       1     174.007271\n",
              "2       2      15.618977\n",
              "3       3     388.048606\n",
              "4       4    2449.129995"
            ]
          },
          "metadata": {
            "tags": []
          },
          "execution_count": 30
        }
      ]
    },
    {
      "cell_type": "code",
      "metadata": {
        "id": "feoIu_ZXlYqk",
        "colab_type": "code",
        "colab": {
          "base_uri": "https://localhost:8080/",
          "height": 187
        },
        "outputId": "4946f579-56fd-485f-f1e5-6c1f5dd9a555"
      },
      "source": [
        "best"
      ],
      "execution_count": 31,
      "outputs": [
        {
          "output_type": "execute_result",
          "data": {
            "text/plain": [
              "{'bagging_fraction': 0.9821595681875143,\n",
              " 'feature_fraction': 0.9543235876804018,\n",
              " 'lambda_l1': 1.1950069081340828e-06,\n",
              " 'lambda_l2': 0.4863008634602687,\n",
              " 'learning_rate': 0.5,\n",
              " 'metric': 'l2',\n",
              " 'num_leaves': 250,\n",
              " 'objective': 'regression',\n",
              " 'subsample': 0.25,\n",
              " 'verbose': 1}"
            ]
          },
          "metadata": {
            "tags": []
          },
          "execution_count": 31
        }
      ]
    },
    {
      "cell_type": "code",
      "metadata": {
        "id": "Go05Yxy3GRFj",
        "colab_type": "code",
        "colab": {}
      },
      "source": [
        ""
      ],
      "execution_count": 0,
      "outputs": []
    }
  ]
}